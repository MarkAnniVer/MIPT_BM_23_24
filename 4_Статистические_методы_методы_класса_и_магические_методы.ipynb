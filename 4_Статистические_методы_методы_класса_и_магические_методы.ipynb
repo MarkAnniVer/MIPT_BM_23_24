{
  "nbformat": 4,
  "nbformat_minor": 0,
  "metadata": {
    "colab": {
      "provenance": []
    },
    "kernelspec": {
      "name": "python3",
      "display_name": "Python 3"
    },
    "language_info": {
      "name": "python"
    }
  },
  "cells": [
    {
      "cell_type": "markdown",
      "source": [
        "#Статические методы, методы класса"
      ],
      "metadata": {
        "id": "AqhNsTfbkFdA"
      }
    },
    {
      "cell_type": "code",
      "source": [
        "class ClassName:\n",
        "    def method(self, arg1, arg2, ...): ...\n",
        "\n",
        "    @classmethod\n",
        "    def method(cls, arg1, arg2, ...): ...\n",
        "\n",
        "    @staticmethod\n",
        "    def method_name(arg1, arg2, ...): ..."
      ],
      "metadata": {
        "id": "9DfRlZ8WkJyS"
      },
      "execution_count": null,
      "outputs": []
    },
    {
      "cell_type": "markdown",
      "source": [
        "#Статический метод"
      ],
      "metadata": {
        "id": "XLHkp-F8V_zE"
      }
    },
    {
      "cell_type": "markdown",
      "source": [
        "используется для создания метода, который ничего не знает о классе или экземпляре, через который он был вызван. Он просто получает переданные аргументы, без неявного первого аргумента, и его определение неизменяемо через наследование\n",
        "\n",
        "@staticmethod -- декоратор для создания стат. метода\n",
        "\n",
        "**Особенность:**\n",
        "Доступ к нему без создания объекта класса (но вызов от объекта тоже возможен)"
      ],
      "metadata": {
        "id": "sQbXAgwsWLW-"
      }
    },
    {
      "cell_type": "code",
      "execution_count": null,
      "metadata": {
        "id": "FwbSdPXBV8NG"
      },
      "outputs": [],
      "source": [
        "class ClassName:\n",
        "    @staticmethod\n",
        "    def method_name(arg1, arg2, ...): ..."
      ]
    },
    {
      "cell_type": "markdown",
      "source": [
        "статический метод не принимает self в качестве первого аргумента для метода."
      ],
      "metadata": {
        "id": "x2h51r2NdeSp"
      }
    },
    {
      "cell_type": "code",
      "source": [
        "class Myclass():\n",
        "    @staticmethod\n",
        "    def staticmethod():\n",
        "        print('static method called')"
      ],
      "metadata": {
        "id": "WonofJ1Edg7q"
      },
      "execution_count": null,
      "outputs": []
    },
    {
      "cell_type": "markdown",
      "source": [
        "Как мы уже говорили, мы можем получить доступ к статическому методу класса без создания экземпляра."
      ],
      "metadata": {
        "id": "1uRsT49BdjE5"
      }
    },
    {
      "cell_type": "code",
      "source": [
        "Myclass.staticmethod()"
      ],
      "metadata": {
        "colab": {
          "base_uri": "https://localhost:8080/"
        },
        "id": "Wo19mOvldlVu",
        "outputId": "a01e6a16-cad0-43a6-a064-21ad0c5c0acc"
      },
      "execution_count": null,
      "outputs": [
        {
          "output_type": "stream",
          "name": "stdout",
          "text": [
            "static method called\n"
          ]
        }
      ]
    },
    {
      "cell_type": "markdown",
      "source": [
        "Хотя вызов метода из экземпляра класса тоже возможен.\n",
        "\n"
      ],
      "metadata": {
        "id": "F6VFoGDldnuj"
      }
    },
    {
      "cell_type": "code",
      "source": [
        "my_obj = Myclass()\n",
        "my_obj.staticmethod()"
      ],
      "metadata": {
        "colab": {
          "base_uri": "https://localhost:8080/"
        },
        "id": "IhGHrubbdp2b",
        "outputId": "97f27504-aaa7-4d87-f848-b763b6a50075"
      },
      "execution_count": null,
      "outputs": [
        {
          "output_type": "stream",
          "name": "stdout",
          "text": [
            "static method called\n"
          ]
        }
      ]
    },
    {
      "cell_type": "markdown",
      "source": [
        "**Почему важен?**\n",
        "\n",
        "1. Достижение инкапсуляции\n",
        "2. Проверка свойства без создания объекта"
      ],
      "metadata": {
        "id": "Nw9kzhWQdu42"
      }
    },
    {
      "cell_type": "code",
      "source": [
        "class Person():\n",
        "    @staticmethod\n",
        "    def is_adult(age):\n",
        "        if age > 18:\n",
        "            return True\n",
        "        else:\n",
        "            return False"
      ],
      "metadata": {
        "id": "rWhzQWAzdwzb"
      },
      "execution_count": null,
      "outputs": []
    },
    {
      "cell_type": "markdown",
      "source": [
        "В приведенном выше примере мы можем проверить, является ли человек взрослым, без инициирование создания экземпляра.\n",
        "\n"
      ],
      "metadata": {
        "id": "FLBRr2TjdwM_"
      }
    },
    {
      "cell_type": "code",
      "source": [
        "Person.is_adult(23)"
      ],
      "metadata": {
        "id": "D6r1wV1rdynb"
      },
      "execution_count": null,
      "outputs": []
    },
    {
      "cell_type": "markdown",
      "source": [
        "#@classmethod"
      ],
      "metadata": {
        "id": "34hKjrEpd9By"
      }
    },
    {
      "cell_type": "code",
      "source": [
        "class Vector:\n",
        "    def __init__(self, x, y):\n",
        "        self.x = x\n",
        "        self.y = y\n",
        "\n",
        "    def get_coord(self):\n",
        "        return self.x, self.y\n",
        "\n",
        "v = Vector(10, 20)\n",
        "coord = v.get_coord()\n",
        "print(coord)"
      ],
      "metadata": {
        "colab": {
          "base_uri": "https://localhost:8080/"
        },
        "id": "5D2KBoPx4oPR",
        "outputId": "4ed6f0f5-4504-4f02-cddf-5f169f8be229"
      },
      "execution_count": null,
      "outputs": [
        {
          "output_type": "stream",
          "name": "stdout",
          "text": [
            "(10, 20)\n"
          ]
        }
      ]
    },
    {
      "cell_type": "code",
      "source": [
        "coord2 = Vector.get_coord(v)\n",
        "coord2"
      ],
      "metadata": {
        "colab": {
          "base_uri": "https://localhost:8080/"
        },
        "id": "uKJXeUQ64umU",
        "outputId": "b6c22c48-1bc0-4127-e85b-3fab2edd5a7b"
      },
      "execution_count": null,
      "outputs": [
        {
          "output_type": "execute_result",
          "data": {
            "text/plain": [
              "(10, 20)"
            ]
          },
          "metadata": {},
          "execution_count": 9
        }
      ]
    },
    {
      "cell_type": "code",
      "source": [
        "class Vector:\n",
        "    MIN_COORD = 0\n",
        "    MAX_COORD = 100\n",
        "\n",
        "    def __init__(self, x, y):\n",
        "        self.x = x\n",
        "        self.y = y\n",
        "\n",
        "    def get_coord(self):\n",
        "        return self.x, self.y\n",
        "\n",
        "    @classmethod\n",
        "    def validate(cls, arg):\n",
        "        return cls.MIN_COORD <= arg <= cls.MAX_COORD\n"
      ],
      "metadata": {
        "id": "0Wf1hgAu4zlU"
      },
      "execution_count": null,
      "outputs": []
    },
    {
      "cell_type": "markdown",
      "source": [
        "данный метод может обращаться только к атрибутам текущего класса, но не к локальным свойствам его экземпляров."
      ],
      "metadata": {
        "id": "4S7P8diP4-db"
      }
    },
    {
      "cell_type": "code",
      "source": [
        "res = Vector.validate(5)\n",
        "print(res)"
      ],
      "metadata": {
        "id": "4N9JyLj25Cn1"
      },
      "execution_count": null,
      "outputs": []
    },
    {
      "cell_type": "markdown",
      "source": [
        "Давайте мы им воспользуемся и вызовем внутри класса для проверки корректности координат x, y:"
      ],
      "metadata": {
        "id": "VXvTWxhU5P51"
      }
    },
    {
      "cell_type": "code",
      "source": [
        "class Vector:\n",
        "    MIN_COORD = 0\n",
        "    MAX_COORD = 100\n",
        "\n",
        "    def __init__(self, x, y):\n",
        "        self.x = self.y = 0\n",
        "        if Vector.validate(x) and Vector.validate(y):\n",
        "            self.x = x\n",
        "            self.y = y\n",
        "        #лучше прописывать self вместо Vector\n",
        "\n",
        "    def get_coord(self):\n",
        "        return self.x, self.y\n",
        "\n",
        "    @classmethod\n",
        "    def validate(cls, arg):\n",
        "        return cls.MIN_COORD <= arg <= cls.MAX_COORD\n"
      ],
      "metadata": {
        "id": "0V7c6vse5JRm"
      },
      "execution_count": null,
      "outputs": []
    },
    {
      "cell_type": "code",
      "source": [
        "v = Vector(1,200)\n",
        "print(v.get_coord())"
      ],
      "metadata": {
        "colab": {
          "base_uri": "https://localhost:8080/"
        },
        "id": "5hNd-Sl55gFy",
        "outputId": "cf1023e0-8218-4a91-e245-1b33339f5cd0"
      },
      "execution_count": null,
      "outputs": [
        {
          "output_type": "stream",
          "name": "stdout",
          "text": [
            "(0, 0)\n"
          ]
        }
      ]
    },
    {
      "cell_type": "markdown",
      "source": [
        "#Важно!\n",
        "\n",
        "нужен для того, чтобы менять поля класса, а не конкретного объекта."
      ],
      "metadata": {
        "id": "WtwJS5Qm8VN1"
      }
    },
    {
      "cell_type": "code",
      "source": [
        "self.MIN_COORD = 100"
      ],
      "metadata": {
        "id": "CVxw47cu8aA0"
      },
      "execution_count": null,
      "outputs": []
    },
    {
      "cell_type": "markdown",
      "source": [
        "в методе класса даёт изменение для всего класса"
      ],
      "metadata": {
        "id": "NipBiy1L8dnD"
      }
    },
    {
      "cell_type": "code",
      "source": [
        "self.MIN_COORD = 100"
      ],
      "metadata": {
        "id": "mzCrlHfK8jbb"
      },
      "execution_count": null,
      "outputs": []
    },
    {
      "cell_type": "markdown",
      "source": [
        "в простом методе даёт изменение для конкретного объекта"
      ],
      "metadata": {
        "id": "ezGhm3-l8nqR"
      }
    },
    {
      "cell_type": "markdown",
      "source": [
        "#Сборка мусора\n",
        "\n",
        "В Python каждый объект имеет счетчик ссылок, который отслеживает количество ссылок на этот объект. Когда объект создается, счетчик ссылок устанавливается в 1:\n",
        "\n",
        "1. Каждый раз, когда создается еще одна ссылка на объект, счетчик увеличивается на 1.\n",
        "\n",
        "2. Когда ссылки на объект удаляются, счетчик уменьшается на 1. Когда счетчик ссылок на объект достигает нуля, объект удаляется из памяти.\n",
        "\n",
        "Python имеет встроенный модуль gc (Garbage Collector), который осуществляет сборку мусора. gc работает автоматически и выполняет сборку мусора в фоновом режиме. gc анализирует все объекты в памяти и удаляет те, на которые нет ссылок."
      ],
      "metadata": {
        "id": "1ihAnuQa4h7M"
      }
    },
    {
      "cell_type": "markdown",
      "source": [
        "#Магические методы"
      ],
      "metadata": {
        "id": "Zji5fm7ikRMJ"
      }
    },
    {
      "cell_type": "markdown",
      "source": [
        "1. всегда обрамлены двумя нижними подчеркиваниями\n",
        "2. переопределяем уже существующие методы"
      ],
      "metadata": {
        "id": "33vxyQOikYFB"
      }
    },
    {
      "cell_type": "markdown",
      "source": [
        "##Конструирование и инициализация.\n",
        "\n"
      ],
      "metadata": {
        "id": "w-DMwkmIlMZ_"
      }
    },
    {
      "cell_type": "code",
      "source": [
        "__init__(self, [...)"
      ],
      "metadata": {
        "id": "du9naLlPlq9j"
      },
      "execution_count": null,
      "outputs": []
    },
    {
      "cell_type": "markdown",
      "source": [
        "инициализатор:\n",
        "1. вызывается new\n",
        "2. создаётся объект класса\n",
        "3. вызывается init\n",
        "\n",
        "является обычным методом"
      ],
      "metadata": {
        "id": "IQ1-MuYvluVJ"
      }
    },
    {
      "cell_type": "code",
      "source": [
        "__del__(self)"
      ],
      "metadata": {
        "id": "igiS3YP1woE_"
      },
      "execution_count": null,
      "outputs": []
    },
    {
      "cell_type": "markdown",
      "source": [
        "финализатор"
      ],
      "metadata": {
        "id": "DdtT7gVRlySR"
      }
    },
    {
      "cell_type": "markdown",
      "source": [
        "Вызывается автоматически сборщиком мусора, практически никогда не используется, за исключением, когда пользователя необходимо предупредить о незакрытых дескрипторах"
      ],
      "metadata": {
        "id": "0R77InaA3g9i"
      }
    },
    {
      "cell_type": "code",
      "source": [
        "__new__(cls, [...)"
      ],
      "metadata": {
        "id": "MJuixlubltZA"
      },
      "execution_count": null,
      "outputs": []
    },
    {
      "cell_type": "markdown",
      "source": [
        "*   вызывается непосредственно перед созданием объекта класса\n",
        "*   является методом класса\n",
        "*   возвращает адрес нового созданного объекта"
      ],
      "metadata": {
        "id": "5Taw03nXn6Hy"
      }
    },
    {
      "cell_type": "code",
      "source": [
        "class Point:\n",
        "    def __new__(cls, *args, **kwargs):\n",
        "        print(\"вызов __new__ для \" + str(cls))\n",
        "\n",
        "    def __init__(self, x=0, y=0):\n",
        "        print(\"вызов __init__ для \" + str(self))\n",
        "        self.x = x\n",
        "        self.y = y"
      ],
      "metadata": {
        "id": "7I3vF-CPo-c6"
      },
      "execution_count": null,
      "outputs": []
    },
    {
      "cell_type": "code",
      "source": [
        "pt = Point(1, 2)\n",
        "print(pt)"
      ],
      "metadata": {
        "colab": {
          "base_uri": "https://localhost:8080/"
        },
        "id": "CxbqIwS3pMFU",
        "outputId": "df77ad14-c9f3-4774-ebc0-1eb24f516978"
      },
      "execution_count": null,
      "outputs": [
        {
          "output_type": "stream",
          "name": "stdout",
          "text": [
            "вызов __new__ для <class '__main__.Point'>\n",
            "None\n"
          ]
        }
      ]
    },
    {
      "cell_type": "markdown",
      "source": [
        "потому что магический метод __new__ должен возвращать адрес нового созданного объекта"
      ],
      "metadata": {
        "id": "O0EwOh-NpSYa"
      }
    },
    {
      "cell_type": "code",
      "source": [
        "class Point:\n",
        "    def __new__(cls, *args, **kwargs):\n",
        "        print(\"вызов __new__ для \" + str(cls))\n",
        "        return super().__new__(cls)\n",
        "\n",
        "    def __init__(self, x=0, y=0):\n",
        "        print(\"вызов __init__ для \" + str(self))\n",
        "        self.x = x\n",
        "        self.y = y"
      ],
      "metadata": {
        "id": "NSTIZE1upblP"
      },
      "execution_count": null,
      "outputs": []
    },
    {
      "cell_type": "code",
      "source": [
        "pt = Point(1, 2)\n",
        "print(pt)"
      ],
      "metadata": {
        "colab": {
          "base_uri": "https://localhost:8080/"
        },
        "id": "Z_I-FIOYpniW",
        "outputId": "47f4ee07-426a-415b-abc0-15a1edb7a513"
      },
      "execution_count": null,
      "outputs": [
        {
          "output_type": "stream",
          "name": "stdout",
          "text": [
            "вызов __new__ для <class '__main__.Point'>\n",
            "вызов __init__ для <__main__.Point object at 0x7da104446140>\n",
            "<__main__.Point object at 0x7da104446140>\n"
          ]
        }
      ]
    },
    {
      "cell_type": "markdown",
      "source": [
        "зачем нужны списки параметров *args, **kwargs в методе __new__? Мы, вроде, их нигде не используем? В действительности, здесь хранятся дополнительные параметры, которые мы можем указывать при создании объекта. Например, строчка:"
      ],
      "metadata": {
        "id": "4RrzXOvApznL"
      }
    },
    {
      "cell_type": "code",
      "source": [
        "pt = Point(1, 2)"
      ],
      "metadata": {
        "id": "UJh4yGQXp10n"
      },
      "execution_count": null,
      "outputs": []
    },
    {
      "cell_type": "markdown",
      "source": [
        "создает объект с двумя числовыми значениями, то есть, *args будет содержать эти два числа. По идее, мы можем реализовать в методе __new__ какую-либо логику с учетом значений этих аргументов. Но, в данном случае, просто игнорируем. Используем их дальше в методе __init__ при инициализации объекта. То есть, аргументы 1 и 2 передаются и в метод __new__ и в метод __init__.\n",
        "\n",
        "#Зачем это надо?\n",
        "##Пример на Singleton"
      ],
      "metadata": {
        "id": "rIMMsPiOp5JV"
      }
    },
    {
      "cell_type": "code",
      "source": [
        "class DataBase:\n",
        "    def __init__(self, user, psw, port):\n",
        "        self.user = user\n",
        "        self.psw = psw\n",
        "        self.port = port\n",
        "\n",
        "    def connect(self):\n",
        "        print(f\"соединение с БД: {self.user}, {self.psw}, {self.port}\")\n",
        "\n",
        "    def close(self):\n",
        "        print(\"закрытие соединения с БД\")\n",
        "\n",
        "    def read(self):\n",
        "        return \"данные из БД\"\n",
        "\n",
        "    def write(self, data):\n",
        "        print(f\"запись в БД {data}\")"
      ],
      "metadata": {
        "id": "KBH4d7fQrBzU"
      },
      "execution_count": null,
      "outputs": []
    },
    {
      "cell_type": "markdown",
      "source": [
        "перепишем с учетом единственности"
      ],
      "metadata": {
        "id": "mSv4eTFBrFZg"
      }
    },
    {
      "cell_type": "code",
      "source": [
        "class DataBase:\n",
        "\n",
        "    __instance = None\n",
        "\n",
        "     def __new__(cls, *args, **kwargs):\n",
        "        if cls.__instance is None:\n",
        "            cls.__instance = super().__new__(cls)\n",
        "\n",
        "        return cls.__instance\n",
        "\n",
        "    def __init__(self, user, psw, port):\n",
        "        self.user = user\n",
        "        self.psw = psw\n",
        "        self.port = port\n",
        "\n",
        "    def connect(self):\n",
        "        print(f\"соединение с БД: {self.user}, {self.psw}, {self.port}\")\n",
        "\n",
        "    def close(self):\n",
        "        print(\"закрытие соединения с БД\")\n",
        "\n",
        "    def read(self):\n",
        "        return \"данные из БД\"\n",
        "\n",
        "    def write(self, data):\n",
        "        print(f\"запись в БД {data}\")"
      ],
      "metadata": {
        "id": "M3yLFn3KrFC2"
      },
      "execution_count": null,
      "outputs": []
    },
    {
      "cell_type": "code",
      "source": [
        "db = DataBase('root', '1234', 80)\n",
        "db2 = DataBase('root2', '5678', 40)\n",
        "print(id(db), id(db2))"
      ],
      "metadata": {
        "id": "hILblp1Wra2a"
      },
      "execution_count": null,
      "outputs": []
    },
    {
      "cell_type": "code",
      "source": [
        "db.connect()\n",
        "db2.connect()"
      ],
      "metadata": {
        "id": "Ome4jIl9rct-"
      },
      "execution_count": null,
      "outputs": []
    },
    {
      "cell_type": "markdown",
      "source": [
        "чтобы исправить, надо переопределить метод call."
      ],
      "metadata": {
        "id": "Ceq2SW-hrha-"
      }
    },
    {
      "cell_type": "markdown",
      "source": [
        "остальные отражены в семинарском ноутбуке\n",
        "\n",
        "#Пример 1\n",
        "\n",
        "Создание инкапсуляции за счёт переопределения магического метода в питоне"
      ],
      "metadata": {
        "id": "nH4oOt2pw6yG"
      }
    },
    {
      "cell_type": "code",
      "source": [
        "class Point:\n",
        "    MIN_COORD = 0\n",
        "    MAX_COORD = 100\n",
        "\n",
        "    def __init__(self, x, y):\n",
        "        self.x = x\n",
        "        self.y = y\n",
        "        #лучше прописывать self вместо Vector\n",
        "\n",
        "    def get_coord(self):\n",
        "        return self.x, self.y\n",
        "\n",
        "    @classmethod\n",
        "    def validate(cls, arg):\n",
        "        return cls.MIN_COORD <= arg <= cls.MAX_COORD\n",
        "\n",
        "    def __getattribute__(self, item):\n",
        "      if item == \"x\":\n",
        "        raise ValueError(\"доступ запрещен\")\n",
        "      else:\n",
        "        return object.__getattribute__(self, item)\n",
        "\n",
        "pt1 = Point(1,2)\n",
        "pt1.x\n"
      ],
      "metadata": {
        "id": "buEFRq_u-w0d"
      },
      "execution_count": null,
      "outputs": []
    },
    {
      "cell_type": "markdown",
      "source": [
        "#Пример 2"
      ],
      "metadata": {
        "id": "wr_j2sDll5Y0"
      }
    },
    {
      "cell_type": "code",
      "source": [
        "class Word(str):\n",
        "    '''Класс для слов, определяющий сравнение по длине слов.'''\n",
        "\n",
        "    def __new__(cls, word):\n",
        "        # Мы должны использовать __new__, так как тип str неизменяемый\n",
        "        # и мы должны инициализировать его раньше (при создании)\n",
        "        if ' ' in word:\n",
        "            print \"Value contains spaces. Truncating to first space.\"\n",
        "            word = word[:word.index(' ')] # Теперь Word это все символы до первого пробела\n",
        "        return str.__new__(cls, word)\n",
        "\n",
        "    def __gt__(self, other):\n",
        "        return len(self) > len(other)\n",
        "    def __lt__(self, other):\n",
        "        return len(self) < len(other)\n",
        "    def __ge__(self, other):\n",
        "        return len(self) >= len(other)\n",
        "    def __le__(self, other):\n",
        "        return len(self) <= len(other)"
      ],
      "metadata": {
        "id": "dKW4MuwUl60v"
      },
      "execution_count": null,
      "outputs": []
    },
    {
      "cell_type": "markdown",
      "source": [
        "#Полезные ссылки"
      ],
      "metadata": {
        "id": "RaUCMA0H2gBN"
      }
    },
    {
      "cell_type": "markdown",
      "source": [
        "Учебник успешного человека (конспект лекций со степика))):\n",
        "\n",
        "https://proproprogs.ru/python_oop/metody-sravneniy-eq-ne-lt-gt\n",
        "\n",
        "Статические методы и методы класса:\n",
        "\n",
        "https://webdevblog.ru/obyasnenie-classmethod-i-staticmethod-v-python/\n",
        "\n",
        "https://younglinux.info/oopython/staticmethod\n",
        "\n",
        "https://proproprogs.ru/python_oop/metody-klassa-classmethod-i-staticheskie-metody-staticmethod\n",
        "\n",
        "магические методы:\n",
        "\n",
        "https://habr.com/ru/articles/186608/\n",
        "\n",
        "https://vc.ru/u/1389654-machine-learning/665258-skrytye-vozmozhnosti-python-nabor-instrumentov-dlya-effektivnogo-i-gibkogo-napisaniya-koda"
      ],
      "metadata": {
        "id": "tTRJeSZPXcr3"
      }
    },
    {
      "cell_type": "code",
      "source": [],
      "metadata": {
        "id": "bXAzyziH3OjS"
      },
      "execution_count": null,
      "outputs": []
    }
  ]
}