{
  "nbformat": 4,
  "nbformat_minor": 0,
  "metadata": {
    "colab": {
      "provenance": []
    },
    "kernelspec": {
      "name": "python3",
      "display_name": "Python 3"
    },
    "language_info": {
      "name": "python"
    }
  },
  "cells": [
    {
      "cell_type": "code",
      "execution_count": null,
      "metadata": {
        "colab": {
          "base_uri": "https://localhost:8080/"
        },
        "id": "hXL3XcLBAmls",
        "outputId": "05e072c1-614a-4077-cbb1-105e80183f55"
      },
      "outputs": [
        {
          "output_type": "stream",
          "name": "stdout",
          "text": [
            "object:\n",
            "\t range(0, 5)\n",
            "type:\n",
            "\t <class 'range'>\n",
            "Methods and attributes:\n",
            "\t ['__bool__', '__class__', '__contains__', '__delattr__', '__dir__', '__doc__', '__eq__', '__format__', '__ge__', '__getattribute__', '__getitem__', '__gt__', '__hash__', '__init__', '__init_subclass__', '__iter__', '__le__', '__len__', '__lt__', '__ne__', '__new__', '__reduce__', '__reduce_ex__', '__repr__', '__reversed__', '__setattr__', '__sizeof__', '__str__', '__subclasshook__', 'count', 'index', 'start', 'step', 'stop']\n"
          ]
        }
      ],
      "source": [
        "a = range(5)\n",
        "\n",
        "print(\"object:\\n\\t\", a)\n",
        "print(\"type:\\n\\t\", type(a))\n",
        "print(\"Methods and attributes:\\n\\t\", dir(a))"
      ]
    },
    {
      "cell_type": "code",
      "source": [
        "a = [1,2,3,4,5]"
      ],
      "metadata": {
        "id": "ZYboFzpmApiT"
      },
      "execution_count": null,
      "outputs": []
    },
    {
      "cell_type": "code",
      "source": [
        "for i in a:\n",
        "  print(i)"
      ],
      "metadata": {
        "colab": {
          "base_uri": "https://localhost:8080/"
        },
        "id": "FEXTIh-TA0UF",
        "outputId": "6da35459-2d21-4f40-8c7c-874d3f27b08e"
      },
      "execution_count": null,
      "outputs": [
        {
          "output_type": "stream",
          "name": "stdout",
          "text": [
            "0\n",
            "1\n",
            "2\n",
            "3\n",
            "4\n"
          ]
        }
      ]
    },
    {
      "cell_type": "code",
      "source": [
        "iterator = iter(a)\n",
        "\n",
        "print(\"object:\\n\\t\", iterator)\n",
        "print(\"type:\\n\\t\", type(iterator))\n",
        "print(\"Methods and attributes:\\n\\t\", dir(iterator))"
      ],
      "metadata": {
        "id": "1wuXHTcmA5EF"
      },
      "execution_count": null,
      "outputs": []
    },
    {
      "cell_type": "code",
      "source": [
        "names = [\"Alex\", \"Bob\", \"Alice\", \"John\", \"Ann\"]\n",
        "age = [25, 1, 34, 24, 42]\n",
        "sex = [\"M\", \"M\", \"F\", \"M\", \"F\"]\n",
        "\n",
        "for values in zip(names, age, sex):\n",
        "    print(\"name: {:>10} age: {:3} sex: {:2}\".format(*values))"
      ],
      "metadata": {
        "colab": {
          "base_uri": "https://localhost:8080/"
        },
        "id": "EuYtJUL3BTHJ",
        "outputId": "0ab1b04d-321b-4e63-a139-6b27cc7f8608"
      },
      "execution_count": null,
      "outputs": [
        {
          "output_type": "stream",
          "name": "stdout",
          "text": [
            "name:       Alex age:  25 sex: M \n",
            "name:        Bob age:   1 sex: M \n",
            "name:      Alice age:  34 sex: F \n",
            "name:       John age:  24 sex: M \n",
            "name:        Ann age:  42 sex: F \n"
          ]
        }
      ]
    },
    {
      "cell_type": "code",
      "source": [
        "def my_range(a, b=None, step=1):\n",
        "    if b is None:\n",
        "        a, b = 0, a\n",
        "    _current = a\n",
        "    while True:\n",
        "        yield _current\n",
        "        _next = _current + step\n",
        "        if (_next - b)*(_current - b) <= 0:\n",
        "            break\n",
        "        _current = _next\n",
        "\n",
        "for i in my_range(5):\n",
        "    print(i, end = \" \")\n",
        "print()"
      ],
      "metadata": {
        "id": "1rLBd9oXBalt"
      },
      "execution_count": null,
      "outputs": []
    },
    {
      "cell_type": "markdown",
      "source": [
        "#Метод .format для строк"
      ],
      "metadata": {
        "id": "h7gUsEXDFsnZ"
      }
    },
    {
      "cell_type": "code",
      "source": [
        "name = \"Кот\"\n",
        "age = 5\n",
        "\n",
        "\"Меня зовут \" + name + \", мне \" + str(age) + \" лет\""
      ],
      "metadata": {
        "colab": {
          "base_uri": "https://localhost:8080/",
          "height": 35
        },
        "id": "AOJd5y0sFwbx",
        "outputId": "50f2f13e-130f-4b93-990b-265934cf53a0"
      },
      "execution_count": null,
      "outputs": [
        {
          "output_type": "execute_result",
          "data": {
            "text/plain": [
              "'Меня зовут Кот, мне 5 лет'"
            ],
            "application/vnd.google.colaboratory.intrinsic+json": {
              "type": "string"
            }
          },
          "metadata": {},
          "execution_count": 1
        }
      ]
    },
    {
      "cell_type": "code",
      "source": [
        "\"Меня зовут {0}, мне {1} лет\".format(name, age)"
      ],
      "metadata": {
        "colab": {
          "base_uri": "https://localhost:8080/",
          "height": 35
        },
        "id": "yB-ftchDHyVC",
        "outputId": "52599a98-0796-49da-ac6a-7aeaaf8d2397"
      },
      "execution_count": null,
      "outputs": [
        {
          "output_type": "execute_result",
          "data": {
            "text/plain": [
              "'Меня зовут Кот, мне 5 лет'"
            ],
            "application/vnd.google.colaboratory.intrinsic+json": {
              "type": "string"
            }
          },
          "metadata": {},
          "execution_count": 3
        }
      ]
    },
    {
      "cell_type": "code",
      "source": [
        "\"Меня зовут {fio}, мне {old} лет\".format(fio = name, old = age)"
      ],
      "metadata": {
        "colab": {
          "base_uri": "https://localhost:8080/",
          "height": 35
        },
        "id": "fEtmnpEiH6wL",
        "outputId": "4c781524-8325-449f-dcc8-c9f29209b93a"
      },
      "execution_count": null,
      "outputs": [
        {
          "output_type": "execute_result",
          "data": {
            "text/plain": [
              "'Меня зовут Кот, мне 5 лет'"
            ],
            "application/vnd.google.colaboratory.intrinsic+json": {
              "type": "string"
            }
          },
          "metadata": {},
          "execution_count": 12
        }
      ]
    },
    {
      "cell_type": "markdown",
      "source": [
        "С Python 3.6 появились f-строки."
      ],
      "metadata": {
        "id": "lsQpo1aUIUZh"
      }
    },
    {
      "cell_type": "code",
      "source": [
        "f\"Меня зовут {name}, мне {age} лет\""
      ],
      "metadata": {
        "colab": {
          "base_uri": "https://localhost:8080/",
          "height": 35
        },
        "id": "HNrLchqZITxs",
        "outputId": "0f7d5c54-df75-46b5-9658-cfc270d2571a"
      },
      "execution_count": null,
      "outputs": [
        {
          "output_type": "execute_result",
          "data": {
            "text/plain": [
              "'Меня зовут Кот, мне 5 лет'"
            ],
            "application/vnd.google.colaboratory.intrinsic+json": {
              "type": "string"
            }
          },
          "metadata": {},
          "execution_count": 4
        }
      ]
    },
    {
      "cell_type": "code",
      "source": [
        "f\"Меня зовут {name.upper()}, мне {age * 2} лет\""
      ],
      "metadata": {
        "colab": {
          "base_uri": "https://localhost:8080/",
          "height": 35
        },
        "id": "x_-RlxveIFlK",
        "outputId": "3699d8ec-f52c-4484-f2fe-b405a2ae85c8"
      },
      "execution_count": null,
      "outputs": [
        {
          "output_type": "execute_result",
          "data": {
            "text/plain": [
              "'Меня зовут КОТ, мне 10 лет'"
            ],
            "application/vnd.google.colaboratory.intrinsic+json": {
              "type": "string"
            }
          },
          "metadata": {},
          "execution_count": 5
        }
      ]
    },
    {
      "cell_type": "markdown",
      "source": [
        "и снова про .format"
      ],
      "metadata": {
        "id": "eMa61mksKe0m"
      }
    },
    {
      "cell_type": "code",
      "source": [
        "coord = {'latitude': '37.24N', 'longitude': '-115.81W'}\n",
        "{**coord}['latitude']"
      ],
      "metadata": {
        "colab": {
          "base_uri": "https://localhost:8080/",
          "height": 35
        },
        "id": "zbeFRN3HMW4Q",
        "outputId": "40b69978-007d-46ac-e321-31b1a1a1ff4b"
      },
      "execution_count": null,
      "outputs": [
        {
          "output_type": "execute_result",
          "data": {
            "text/plain": [
              "'37.24N'"
            ],
            "application/vnd.google.colaboratory.intrinsic+json": {
              "type": "string"
            }
          },
          "metadata": {},
          "execution_count": 27
        }
      ]
    },
    {
      "cell_type": "code",
      "source": [
        "coord = {'latitude': '37.24N', 'longitude': '-115.81W'}\n",
        "'Coordinates: {latitude}, {longitude}'.format(**coord)\n",
        "\n",
        "arr = [name, age]\n",
        "\"Меня зовут {0}, мне {1} лет\".format(*arr)"
      ],
      "metadata": {
        "colab": {
          "base_uri": "https://localhost:8080/",
          "height": 35
        },
        "id": "WAUKq8_ZKibE",
        "outputId": "dbd4ec9b-2f31-4f9b-a689-ed80e4b4674b"
      },
      "execution_count": null,
      "outputs": [
        {
          "output_type": "execute_result",
          "data": {
            "text/plain": [
              "'Coordinates: 37.24N, -115.81W'"
            ],
            "application/vnd.google.colaboratory.intrinsic+json": {
              "type": "string"
            }
          },
          "metadata": {},
          "execution_count": 25
        }
      ]
    },
    {
      "cell_type": "code",
      "source": [
        "поле замены     ::=  \"{\" [имя поля] [\"!\" преобразование] [\":\" спецификация] \"}\"\n",
        "имя поля        ::=  arg_name (\".\" имя атрибута | \"[\" индекс \"]\")*\n",
        "преобразование  ::=  \"r\" (внутреннее представление) | \"s\" (человеческое представление)\n",
        "спецификация    ::=  см. ниже"
      ],
      "metadata": {
        "id": "KDLGRBlrKpLV"
      },
      "execution_count": null,
      "outputs": []
    },
    {
      "cell_type": "code",
      "source": [
        "спецификация ::=  [[fill]align][sign][#][0][width][,][.precision][type]\n",
        "заполнитель  ::=  символ кроме '{' или '}'\n",
        "выравнивание ::=  \"<\" | \">\" | \"=\" | \"^\"\n",
        "знак         ::=  \"+\" | \"-\" | \" \"\n",
        "ширина       ::=  integer\n",
        "точность     ::=  integer\n",
        "тип          ::=  \"b\" | \"c\" | \"d\" | \"e\" | \"E\" | \"f\" | \"F\" | \"g\" | \"G\" |\n",
        "                  \"n\" | \"o\" | \"s\" | \"x\" | \"X\" | \"%\""
      ],
      "metadata": {
        "id": "i98rIMASK0TW"
      },
      "execution_count": null,
      "outputs": []
    },
    {
      "cell_type": "markdown",
      "source": [
        "куча примеров:"
      ],
      "metadata": {
        "id": "lDvIGNXPLWwV"
      }
    },
    {
      "cell_type": "code",
      "source": [
        "coord = (3, 5)\n",
        "'X: {0[0]};  Y: {0[1]}'.format(coord)"
      ],
      "metadata": {
        "colab": {
          "base_uri": "https://localhost:8080/",
          "height": 35
        },
        "id": "FFfPoRfJLXs9",
        "outputId": "eff299b2-022a-4f4a-9f89-73ea8972aab9"
      },
      "execution_count": null,
      "outputs": [
        {
          "output_type": "execute_result",
          "data": {
            "text/plain": [
              "'X: 3;  Y: 5'"
            ],
            "application/vnd.google.colaboratory.intrinsic+json": {
              "type": "string"
            }
          },
          "metadata": {},
          "execution_count": 15
        }
      ]
    },
    {
      "cell_type": "code",
      "source": [
        "\"repr() shows quotes: {!r}; str() doesn't: {!s}\".format('test1', 'test2')"
      ],
      "metadata": {
        "colab": {
          "base_uri": "https://localhost:8080/",
          "height": 35
        },
        "id": "8kPnooAtLauE",
        "outputId": "c080b9fd-c1ba-450a-8210-6bcf460f3310"
      },
      "execution_count": null,
      "outputs": [
        {
          "output_type": "execute_result",
          "data": {
            "text/plain": [
              "\"repr() shows quotes: 'test1'; str() doesn't: test2\""
            ],
            "application/vnd.google.colaboratory.intrinsic+json": {
              "type": "string"
            }
          },
          "metadata": {},
          "execution_count": 16
        }
      ]
    },
    {
      "cell_type": "code",
      "source": [
        "'{:<13}'.format('left aligned')"
      ],
      "metadata": {
        "colab": {
          "base_uri": "https://localhost:8080/",
          "height": 35
        },
        "id": "Ekb6GzUVLedn",
        "outputId": "d590db98-f5e5-4277-84b6-501c0385f333"
      },
      "execution_count": null,
      "outputs": [
        {
          "output_type": "execute_result",
          "data": {
            "text/plain": [
              "'left aligned '"
            ],
            "application/vnd.google.colaboratory.intrinsic+json": {
              "type": "string"
            }
          },
          "metadata": {},
          "execution_count": 41
        }
      ]
    },
    {
      "cell_type": "code",
      "source": [
        "'{:>30}'.format('right aligned')"
      ],
      "metadata": {
        "colab": {
          "base_uri": "https://localhost:8080/",
          "height": 35
        },
        "id": "ksJgdiUBLiTo",
        "outputId": "2bac9876-0a97-4fd5-89b5-aac9794370ab"
      },
      "execution_count": null,
      "outputs": [
        {
          "output_type": "execute_result",
          "data": {
            "text/plain": [
              "'                 right aligned'"
            ],
            "application/vnd.google.colaboratory.intrinsic+json": {
              "type": "string"
            }
          },
          "metadata": {},
          "execution_count": 18
        }
      ]
    },
    {
      "cell_type": "code",
      "source": [
        "'{:^30}'.format('centered')"
      ],
      "metadata": {
        "colab": {
          "base_uri": "https://localhost:8080/",
          "height": 35
        },
        "id": "fti8M4Z1LldC",
        "outputId": "4df73304-daba-4888-f447-9deb59da1534"
      },
      "execution_count": null,
      "outputs": [
        {
          "output_type": "execute_result",
          "data": {
            "text/plain": [
              "'           centered           '"
            ],
            "application/vnd.google.colaboratory.intrinsic+json": {
              "type": "string"
            }
          },
          "metadata": {},
          "execution_count": 19
        }
      ]
    },
    {
      "cell_type": "code",
      "source": [
        "'{:0^9}'.format('centered')  # use '*' as a fill char"
      ],
      "metadata": {
        "colab": {
          "base_uri": "https://localhost:8080/",
          "height": 35
        },
        "id": "zhiabzZhLn_D",
        "outputId": "78381eb0-ec8a-4f03-e4bd-4eedd0527277"
      },
      "execution_count": null,
      "outputs": [
        {
          "output_type": "execute_result",
          "data": {
            "text/plain": [
              "'centered0'"
            ],
            "application/vnd.google.colaboratory.intrinsic+json": {
              "type": "string"
            }
          },
          "metadata": {},
          "execution_count": 47
        }
      ]
    },
    {
      "cell_type": "code",
      "source": [
        "\"{:0>2}: {:>7}\".format(4, 5)"
      ],
      "metadata": {
        "colab": {
          "base_uri": "https://localhost:8080/",
          "height": 35
        },
        "id": "ZWGNO9TRTonL",
        "outputId": "26cf39a4-486f-4508-d90c-24ad51289524"
      },
      "execution_count": null,
      "outputs": [
        {
          "output_type": "execute_result",
          "data": {
            "text/plain": [
              "'04:       5'"
            ],
            "application/vnd.google.colaboratory.intrinsic+json": {
              "type": "string"
            }
          },
          "metadata": {},
          "execution_count": 49
        }
      ]
    },
    {
      "cell_type": "code",
      "source": [
        "def my_range(a, b=None, step=1):\n",
        "    if b is None:\n",
        "        a, b = 0, a\n",
        "    _current = a\n",
        "    while True:\n",
        "        yield _current\n",
        "        _next = _current + step\n",
        "        if (_next - b)*(_current - b) <= 0:\n",
        "            break\n",
        "        _current = _next\n",
        "\n",
        "for i in my_range(5):\n",
        "    print(i, end = \" \")\n",
        "print()"
      ],
      "metadata": {
        "id": "apIx5ZiMWhKA",
        "outputId": "4aa2cecc-fba2-4bf1-fda0-a9d7da644d93",
        "colab": {
          "base_uri": "https://localhost:8080/"
        }
      },
      "execution_count": null,
      "outputs": [
        {
          "output_type": "stream",
          "name": "stdout",
          "text": [
            "0 1 2 3 4 \n"
          ]
        }
      ]
    },
    {
      "cell_type": "code",
      "source": [
        "'{:+f}; {:+f}'.format(3.14, -3.14)  # show it always"
      ],
      "metadata": {
        "colab": {
          "base_uri": "https://localhost:8080/",
          "height": 35
        },
        "id": "l7P9D2khLq4V",
        "outputId": "9d0bbe2b-67dd-46a8-fd4b-1a991357fa25"
      },
      "execution_count": null,
      "outputs": [
        {
          "output_type": "execute_result",
          "data": {
            "text/plain": [
              "'+3.140000; -3.140000'"
            ],
            "application/vnd.google.colaboratory.intrinsic+json": {
              "type": "string"
            }
          },
          "metadata": {},
          "execution_count": 32
        }
      ]
    },
    {
      "cell_type": "code",
      "source": [
        "'{: f}; {: f}'.format(3.14, -3.14)  # show a space for positive numbers"
      ],
      "metadata": {
        "colab": {
          "base_uri": "https://localhost:8080/",
          "height": 35
        },
        "id": "3hSEz-YnLtae",
        "outputId": "fa2ca334-da3d-495f-992f-447288258509"
      },
      "execution_count": null,
      "outputs": [
        {
          "output_type": "execute_result",
          "data": {
            "text/plain": [
              "' 3.140000; -3.140000'"
            ],
            "application/vnd.google.colaboratory.intrinsic+json": {
              "type": "string"
            }
          },
          "metadata": {},
          "execution_count": 22
        }
      ]
    },
    {
      "cell_type": "code",
      "source": [
        "'{:-f}; {:-f}'.format(3.14, -3.14)  # show only the minus -- same as '{:f}; {:f}'"
      ],
      "metadata": {
        "colab": {
          "base_uri": "https://localhost:8080/",
          "height": 35
        },
        "id": "1cxjysXzLwup",
        "outputId": "01503fbb-1274-433e-9056-981ec7bf471a"
      },
      "execution_count": null,
      "outputs": [
        {
          "output_type": "execute_result",
          "data": {
            "text/plain": [
              "'3.140000; -3.140000'"
            ],
            "application/vnd.google.colaboratory.intrinsic+json": {
              "type": "string"
            }
          },
          "metadata": {},
          "execution_count": 23
        }
      ]
    },
    {
      "cell_type": "code",
      "source": [
        "# format also supports binary numbers\n",
        "\"int: {0:d};  hex: {0:x};  oct: {0:o};  bin: {0:b}\".format(42)"
      ],
      "metadata": {
        "colab": {
          "base_uri": "https://localhost:8080/",
          "height": 35
        },
        "id": "4CrmigklL05V",
        "outputId": "6eb397ac-6af0-4a70-d4c7-2d3a878d34da"
      },
      "execution_count": null,
      "outputs": [
        {
          "output_type": "execute_result",
          "data": {
            "text/plain": [
              "'int: 42;  hex: 2a;  oct: 52;  bin: 101010'"
            ],
            "application/vnd.google.colaboratory.intrinsic+json": {
              "type": "string"
            }
          },
          "metadata": {},
          "execution_count": 24
        }
      ]
    },
    {
      "cell_type": "code",
      "source": [
        "# with 0x, 0o, or 0b as prefix:\n",
        "\"int: {0:d};  hex: {0:#x};  oct: {0:#o};  bin: {0:#b}\".format(42)"
      ],
      "metadata": {
        "colab": {
          "base_uri": "https://localhost:8080/",
          "height": 35
        },
        "id": "-63J750IL2uk",
        "outputId": "4baa57b1-f7ad-4414-e67c-b78ec1d4f97f"
      },
      "execution_count": null,
      "outputs": [
        {
          "output_type": "execute_result",
          "data": {
            "text/plain": [
              "'int: 42;  hex: 0x2a;  oct: 0o52;  bin: 0b101010'"
            ],
            "application/vnd.google.colaboratory.intrinsic+json": {
              "type": "string"
            }
          },
          "metadata": {},
          "execution_count": 26
        }
      ]
    },
    {
      "cell_type": "code",
      "source": [
        "points = 19.5\n",
        "total = 22\n",
        "'Correct answers: {:.1%}'.format(points/total)"
      ],
      "metadata": {
        "colab": {
          "base_uri": "https://localhost:8080/",
          "height": 35
        },
        "id": "W_gbBAjKL4aG",
        "outputId": "b14bf291-ac51-4e40-b527-6c931fe43827"
      },
      "execution_count": null,
      "outputs": [
        {
          "output_type": "execute_result",
          "data": {
            "text/plain": [
              "'Correct answers: 88.6%'"
            ],
            "application/vnd.google.colaboratory.intrinsic+json": {
              "type": "string"
            }
          },
          "metadata": {},
          "execution_count": 36
        }
      ]
    },
    {
      "cell_type": "code",
      "source": [],
      "metadata": {
        "id": "43i745EbL8PT"
      },
      "execution_count": null,
      "outputs": []
    }
  ]
}