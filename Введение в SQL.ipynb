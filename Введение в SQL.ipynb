{
  "nbformat": 4,
  "nbformat_minor": 0,
  "metadata": {
    "colab": {
      "provenance": []
    },
    "kernelspec": {
      "name": "python3",
      "display_name": "Python 3"
    },
    "language_info": {
      "name": "python"
    }
  },
  "cells": [
    {
      "cell_type": "markdown",
      "source": [
        "#Базы данных\n",
        "\n"
      ],
      "metadata": {
        "id": "dxafQm6AASCV"
      }
    },
    {
      "cell_type": "markdown",
      "source": [
        "80-е годы реляционные базы данных\n",
        "\n",
        "90-е годы объекто-ориентированные базы данных"
      ],
      "metadata": {
        "id": "4EkrrD9xZD5q"
      }
    },
    {
      "cell_type": "markdown",
      "source": [
        "**основные термины:**\n",
        "\n",
        "* БД, СУБД\n",
        "\n",
        "* модели, реляционная модель: сущности и связи\n",
        "\n",
        "* таблицы, кортеж, реляционная логика, связный граф, вершины-сущности (таблицы/отношения), ребра-связи (столбцы/признаки с совпадающими доменами)\n",
        "\n",
        "* за одну бд отвечает один связный граф\n",
        "\n",
        "* ключ (primary key)"
      ],
      "metadata": {
        "id": "K3-pZJa5DdYp"
      }
    },
    {
      "cell_type": "markdown",
      "source": [
        "##Реляционные бд\n",
        "\n",
        "Данные в реляционной базе организованы в виде таблиц, состоящих из столбцов и строк. Реляционная СУБД обеспечивает быстрый и эффективный доступ к структурированной информации.\n",
        "\n",
        "**Что такое \"реляционный\"?**\n",
        "\n",
        "Построенный по принципам реляционной логики.\n",
        "\n",
        "**Что это значит?**\n",
        "\n",
        "Значит, что есть три значения: true, false, idk"
      ],
      "metadata": {
        "id": "5EXNasbZZXxQ"
      }
    },
    {
      "cell_type": "markdown",
      "source": [
        "*   много кортежей -> таблица\n",
        "*   много таблиц -> база данных"
      ],
      "metadata": {
        "id": "zjYqy11mamIV"
      }
    },
    {
      "cell_type": "markdown",
      "source": [
        "**БД - связный граф.**\n",
        "\n",
        "\n",
        "*  Вершины - сущности (таблицы/отношения)\n",
        "*  Ребра - связи (столбцы/признаки с совпадающими значениями атрибутов)\n",
        "\n"
      ],
      "metadata": {
        "id": "E_a3SG_5bbK2"
      }
    },
    {
      "cell_type": "markdown",
      "source": [
        "**ключ (primary key)**\n",
        "\n",
        "используется для однозначной идентификации каждого кортежа в таблице"
      ],
      "metadata": {
        "id": "Q-kbOZA1bzAH"
      }
    },
    {
      "cell_type": "markdown",
      "source": [
        "##SQL: теория\n",
        "\n",
        "\\- это язык структурированных запросов.\n"
      ],
      "metadata": {
        "id": "DkcpPS_Gaa7p"
      }
    },
    {
      "cell_type": "markdown",
      "source": [
        "для обращения к БД нам понадобится клиентская часть СУБД. Для этих целей используется компактно встраиваемая СУБД SQLite.\n",
        "\n",
        "Мы будем пользоваться утилитой командной строки sqlite3.\n",
        "\n",
        "Для работы с базой данных запустите утилиту, указав имя файла БД. Если файл не существует, то он будет создан."
      ],
      "metadata": {
        "id": "eDDa7V1bn2UW"
      }
    },
    {
      "cell_type": "code",
      "source": [
        "sqlite3 test.db"
      ],
      "metadata": {
        "id": "3tv872XLyewp"
      },
      "execution_count": null,
      "outputs": []
    },
    {
      "cell_type": "markdown",
      "source": [
        "Запустив утилиту, вы попадете в интерактивный режим. Все команды утилиты начинаются с точки. Ознакомиться со списком команд можно при помощи .help\n",
        "\n"
      ],
      "metadata": {
        "id": "KgNi_Iy3yhB-"
      }
    },
    {
      "cell_type": "code",
      "source": [
        "sqlite> .help"
      ],
      "metadata": {
        "id": "V-3jWFHNyhn9"
      },
      "execution_count": null,
      "outputs": []
    },
    {
      "cell_type": "markdown",
      "source": [
        "Для завершения работы с утилитой введите .quit или сочетание клавиш ctrl+D. Интерактивный режим утилиты позволяет как напрямую писать запросы на языке SQL, так и запускать на исполнение sql файлы. Для запуска файла используется команда .read path/to/sql/file. Для удобства используйте команды\n",
        "\n",
        "\n",
        "\n"
      ],
      "metadata": {
        "id": "Syjz_Jvvykkg"
      }
    },
    {
      "cell_type": "code",
      "source": [
        "sqlite> .mode column\n",
        "sqlite> .headers on"
      ],
      "metadata": {
        "id": "ZlENJehXyxS0"
      },
      "execution_count": null,
      "outputs": []
    },
    {
      "cell_type": "markdown",
      "source": [
        "Это позволит отображать результаты запросов в виде выравненных таблиц с названиями столбцов.\n",
        "\n"
      ],
      "metadata": {
        "id": "aKg_14obyzoX"
      }
    },
    {
      "cell_type": "markdown",
      "source": [
        "**Синтаксис SQL**\n",
        "\n",
        "\n",
        "\n",
        "*   не регистрозависимый, но есть нюанс\n",
        "заглавные: ключевые слова и функции\n",
        "строчные: названия таблиц и атрибутов\n",
        "*   Комментарии:\n",
        "\n",
        "1: --\n",
        "\n",
        "2:  /* */\n",
        "\n",
        "*   все выражения начинаются с ключевого слова и оканчиваются ;\n",
        "\n",
        "\n",
        "\n",
        "\n"
      ],
      "metadata": {
        "id": "ROxJG-8py5fj"
      }
    },
    {
      "cell_type": "markdown",
      "source": [
        "**Типы данных**\n",
        "\n",
        "\n",
        "\n",
        "*   NULL – пустое значение;\n",
        "*   INTEGER – 1, 2, 3, 4, 6 или 8 байтное знаковое число;\n",
        "*   REAL – 8-байтное число с плавающей запятой;\n",
        "*   TEXT – строка в кодировке UTF-8, UTF-16BE или UTF-16LE (зависит от базы данных);\n",
        "*   BLOB – массив двоичных данных, обычно нужен для хранения мультимедийных объектов и скомпилированного программного кода.\n",
        "*   BOOLEAN в SQLite представлен типом INTEGER со значениями 0 и 1.\n",
        "*   Под дату/время нет специального типа. Для хранения даты/времени используют текстовый формат: YYYY-MM-DD HH:MM:SS.SSS\n",
        "\n",
        "Для того, чтобы получить текущее время в этом представлении, можно использовать функцию DATETIME(\"now\"). Полученный результат будет отображать текущее время по UTC (Coordinated Universal Time). Московское время – UTC+3. Если необходимо получить локальное текущее время, то DATETIME(\"now\", \"localtime\").\n",
        "\n",
        "\n",
        "REAL хранит время в виде юлианской даты, т.е. количество суток, прошедших с полудня 24 ноября 4714 г. до н.э. по григорианскому календарю. Дробная часть показывает время. Например, 2451545,25 есть 18 часов 1 января 2000 года. Т.к. такой формат не особо читаемый, то функции DATE и TIME от такого дробного числа возвращают дату и время соответственно.\n",
        "\n",
        "INTEGER работает с широко известным UNIX timestamp. Timestamp показывает количество секунд, прошедших с 00:00:00 по UTC 1 января 1970 года (этот момент времени – UNIX epoch). Чтобы получить время в этом представлении, воспользуйтесь STRFTIME(\"%s\", \"now\"). Функция поддерживает и модификатор localtime. Для перевода в читаемый формат используйте: DATETIME(timestamp, \"unixepoch\").\n",
        "\n",
        "\n",
        "\n",
        "\n",
        "\n",
        "\n",
        "\n",
        "\n"
      ],
      "metadata": {
        "id": "KWXsr-8Q19RB"
      }
    },
    {
      "cell_type": "markdown",
      "source": [
        "##SQL: практика"
      ],
      "metadata": {
        "id": "btnSH-Fm_nbl"
      }
    },
    {
      "cell_type": "markdown",
      "source": [
        "### Создание, удаление и изменение таблиц\n",
        "\n",
        "**CREATE TABLE**\n",
        "\n",
        "Для создания таблицы используется команда CREATE TABLE. Общий синтаксис команды:\n",
        "\n",
        "\n",
        "CREATE TABLE table_name(\n",
        "\n",
        "    column1 datatype PRIMARY KEY,\n",
        "    column2 datatype,\n",
        "\n",
        "    column3 datatype,\n",
        "    .....\n",
        "    columnN datatype\n",
        ");\n",
        "\n",
        "\n",
        "Обратите внимание, что в таблице хотя бы один атрибут должен быть ключом. Рассмотрим несколько примеров\n",
        "\n"
      ],
      "metadata": {
        "id": "olW6gTKm6uxY"
      }
    },
    {
      "cell_type": "markdown",
      "source": [
        "создадим пример таблицы:\n",
        "\n",
        "CREATE TABLE company(\n",
        "\n",
        "    id INT,\n",
        "    name TEXT,\n",
        "    age INT,\n",
        "    address TEXT,\n",
        "    salary REAL\n",
        ");\n",
        "\n",
        "CREATE TABLE department(\n",
        "\n",
        "    id INT,\n",
        "    dept TEXT,\n",
        "    emp_id INT\n",
        ");\n",
        "\n",
        "и удалим ее сразу:\n",
        "\n",
        "DROP TABLE company;\n",
        "\n",
        "теперь посмотрим на то, какие параметры можно навесить на таблицу и её атрибуты:\n",
        "\n",
        "\n",
        "\n",
        "*   NOT NULL указывает на то, что атрибут не может иметь пустое значение;\n",
        "*   DEFAULT позволяет задать атрибуту значение по умолчанию;\n",
        "*   UNIQUE делает значения атрибутов уникальным для каждой строки;\n",
        "*   PRIMARY KEY однозначно определяет каждую строку (может быть указан только у одного атрибута);\n",
        "*   FOREIGN KEY связывает столбец одной таблицы со столбцом другой таблицы;\n",
        "*   AUTOINCREMENT автоматически задает атриубуту увеличивающееся значение;\n",
        "*   CHECK проверяет, что значения атрибута удовлетворяют логическому выражению.\n",
        "\n",
        "\n",
        "\n"
      ],
      "metadata": {
        "id": "zIU-vKKj983k"
      }
    },
    {
      "cell_type": "markdown",
      "source": [
        "модифицируем таблицы:\n",
        "\n",
        "CREATE TABLE company(\n",
        "\n",
        "    id INT PRIMARY KEY NOT NULL,\n",
        "    name TEXT NOT NULL,\n",
        "    age INT NOT NULL,\n",
        "    address TEXT,\n",
        "    salary REAL DEFAULT 30000 CHECK(salary >= 0)\n",
        ");\n",
        "\n",
        "CREATE TABLE department(\n",
        "\n",
        "    id INT PRIMARY KEY NOT NULL,\n",
        "    dept TEXT NOT NULL,\n",
        "    emp_id INT NOT NULL,\n",
        "    FOREIGN KEY (emp_id) REFERENCES company (id)\n",
        ");\n",
        "\n",
        "Заметьте, что теперь department.emp_id и company.id связаны, и department.emp_id может содержать только те значения, что есть в company.id.\n",
        "\n",
        "\n",
        "\n",
        "**А как менять таблицы?**\n",
        "\n",
        "**ALTER TABLE**\n",
        "\n",
        "Для изменения таблицы есть команда ALTER TABLE. В SQLite поддерживается 2 варианта: переименование таблицы и добавление столбца.\n",
        "\n",
        "ALTER TABLE old_table RENAME TO new_table;\n",
        "\n",
        "ALTER TABLE table_name ADD COLUMN column_definition;\n",
        "\n",
        "Добавленный столбец не может быть UNIQUE или PRIMARY KEY. Если он NOT NULL, то обязательно должны быть указаны значения по умолчанию."
      ],
      "metadata": {
        "id": "lLuonNag-6qA"
      }
    },
    {
      "cell_type": "markdown",
      "source": [
        "### Добавление строк\n",
        "\n",
        "**INSERT**\n",
        "\n",
        "INSERT INTO table_name (column1, column2, ...)\n",
        "\n",
        "VALUES\n",
        "\n",
        "    (value1, value2, ...),\n",
        "    ...\n",
        "    (value1, value2, ...);\n",
        "\n",
        "\n",
        "пример:\n",
        "\n",
        "INSERT INTO company\n",
        "\n",
        "VALUES\n",
        "\n",
        "    (1, 'Paul', 32, 'California', 20000.00),\n",
        "    (2, 'Allen', 25, 'Texas', 15000.00),\n",
        "    (3, 'Teddy', 23, 'Norway', 20000.00),\n",
        "    (4, 'Mark', 25, 'Rich-Mond ', 65000.00),\n",
        "    (5, 'David', 27, 'Texas', 85000.00),\n",
        "    (6, 'Kim', 22, 'South-Hall', 45000.00),\n",
        "    (7, 'James', 24, 'Houston', 10000.00);\n",
        "\n",
        "INSERT INTO department\n",
        "\n",
        "VALUES\n",
        "\n",
        "    (1, 'IT Billing', 1),\n",
        "    (2, 'Engineering', 6),\n",
        "    (3, 'Finance', 5),\n",
        "    (4, 'HR', 5);"
      ],
      "metadata": {
        "id": "nGXoH0vn_Xq_"
      }
    },
    {
      "cell_type": "markdown",
      "source": [
        "### **SELECT**\n",
        "\n",
        "Запрос SELECT позволяет получить выборку данных из одной или нескольких таблиц. Кроме того SELECT можно использовать для вычислений.\n",
        "\n",
        "SELECT 1 + 1;\n",
        "\n",
        "SELECT 10 / 5, 2 * 4;\n",
        "\n",
        "Обычно запрос используется для получения данных из таблицы. Общий вид запроса следующий:\n",
        "\n",
        "\n",
        "\n",
        "> SELECT DISTINCT column_list\n",
        "FROM table_list\n",
        "JOIN table_name ON join_condition\n",
        "WHERE search_condition\n",
        "ORDER BY column_list\n",
        "LIMIT count\n",
        "OFFSET offset\n",
        "GROUP BY column_name\n",
        "HAVING group_filter;\n",
        "\n",
        "\n",
        "\n",
        "\n",
        "**SELECT name, salary FROM company;**\n",
        "\n",
        "Такой запрос создаст временную таблицу из столбцов company.name и company.salary, заполнив ее значениями из таблицы company. Если нам необходимо просмотреть данные всех столбцов, то список столбцов заменяется на *.\n",
        "\n",
        "\n",
        "SELECT * FROM company;"
      ],
      "metadata": {
        "id": "QVREYcjNBRq4"
      }
    },
    {
      "cell_type": "markdown",
      "source": [
        "### **ORDER BY**\n",
        "\n",
        "сортировка данных\n",
        "\n",
        "SELECT name, age, salary\n",
        "FROM company\n",
        "ORDER BY\n",
        "\n",
        "    age ASC,\n",
        "    salary DESC;\n",
        "\n",
        "  \n",
        "ASC и DES означают сортировку по возрастанию и убыванию соответственно."
      ],
      "metadata": {
        "id": "ivQCQbxvF7XD"
      }
    },
    {
      "cell_type": "markdown",
      "source": [
        "### DISTINCT\n",
        "\n",
        "DISTINCT убирает дублирующиеся строки. Сравните результаты двух запросов.\n",
        "\n",
        "SELECT age FROM company;\n",
        "\n",
        "SELECT DISTINCT age FROM company;"
      ],
      "metadata": {
        "id": "aGVIh0I6K4xI"
      }
    },
    {
      "cell_type": "markdown",
      "source": [
        "### WHERE\n",
        "\n",
        "WHERE позволяет отфильтровать результаты путем вычисления логических выражений, объединенных логическими AND и OR. Примеры фильтров:\n",
        "\n",
        "... WHERE column1 = 100;\n",
        "\n",
        "... WHERE column2 NOT IN (1, 2, 3);\n",
        "\n",
        "... WHERE column3 IS NULL;\n",
        "\n",
        "... WHERE column4 BETWEEN 10 AND 20;\n",
        "\n",
        "\n",
        "WHERE поддерживает еще пару выражений, которые мы пока опустим."
      ],
      "metadata": {
        "id": "0YP-hIyEK-W3"
      }
    },
    {
      "cell_type": "markdown",
      "source": [
        "### LIMIT and OFFSET\n",
        "\n",
        "LIMIT позволяет ограничить количество строк в результате. Например, после сортировки работников по атрибуту salary мы бы хотели видеть только топ 10 зарплат в компании. OFFSET позволяет сдвинуть начало отсчета. Например,\n",
        "\n",
        "LIMIT 10 OFFSET 5;\n",
        "\n",
        "позволит посмотреть следующие топ 10 зарплат после топ 5.\n",
        "\n"
      ],
      "metadata": {
        "id": "kgjPBO82LGsV"
      }
    },
    {
      "cell_type": "markdown",
      "source": [
        "### GROUP BY\n",
        "\n",
        "выполняет группировку данных по указанным столбцам. При использовании группировки обычно подсчитывают ту или иную статистику внутри каждой группы. Например, MAX, MIN, COUNT, AVG.\n",
        "\n",
        "SELECT emp_id, COUNT(id)\n",
        "FROM department\n",
        "GROUP BY emp_id;"
      ],
      "metadata": {
        "id": "HXIfNw06LQAY"
      }
    },
    {
      "cell_type": "markdown",
      "source": [
        "### HAVING\n",
        "\n",
        "Первый столбец будет содержать id работников, а второй столбец — количество отделов,в которых он работает. HAVING позволяет фильтровать результаты GROUP BY. Например\n",
        "\n",
        "SELECT emp_id, COUNT(id)\n",
        "FROM department\n",
        "GROUP BY emp_id\n",
        "HAVING COUNT(id) = 1;\n",
        "оставит только тех сотрудников, которые работают только в одном отделе."
      ],
      "metadata": {
        "id": "7rijHxnHLXxh"
      }
    },
    {
      "cell_type": "markdown",
      "source": [
        "### JOIN\n",
        "\n",
        "#### CROSS JOIN\n",
        "\n",
        "декартово произведение\n",
        "\n",
        "SELECT *\n",
        "FROM company, department;\n",
        "\n",
        "SELECT *\n",
        "FROM company\n",
        "CROSS JOIN department;\n",
        "Приведенные два запроса эквивалентны, но лучше использовать второй, т.к. он явно указывает тип объединения.\n",
        "\n",
        "\n",
        "#### INNER JOIN\n",
        "\n",
        "Он строит результат только из тех пар строк, которые удовлетворяют предикату, среди всех возможных пар.\n",
        "\n",
        "SELECT name, dept\n",
        "FROM company\n",
        "INNER JOIN department\n",
        "\n",
        "    ON company.id = department.emp_id;\n",
        "\n",
        "\n",
        "#### LEFT JOIN\n",
        "\n",
        "LEFT JOIN для каждой строки из первой таблицы выбирает все подходящие строки из второй. Если таковой не существует, парой к строке из первой таблицы берется пустая строка.\n",
        "\n",
        "SELECT name, dept\n",
        "FROM company\n",
        "LEFT JOIN department\n",
        "\n",
        "    ON company.id = department.emp_id;\n",
        "\n",
        "Как можно увидеть, в столбце name теперь есть все сотрудники. Однако столбец dept заполнен только у тех сотрудников, про которых есть информация в department.\n",
        "\n",
        "\n",
        "\n",
        "\n"
      ],
      "metadata": {
        "id": "5-7G2INPdIRn"
      }
    },
    {
      "cell_type": "markdown",
      "source": [
        "#### DELETE\n",
        "\n",
        "удаляем так строки.\n",
        "\n",
        "DELETE FROM table_name\n",
        "WHERE search_condition;\n",
        "\n",
        "#### UPDATE\n",
        "\n",
        "Изменение данных в уже существущих строках выполняется при помощи UPDATE. Его вид:\n",
        "\n",
        "UPDATE table_name\n",
        "SET\n",
        "\n",
        "    column1 = value1,\n",
        "    column2 = value2,\n",
        "    ...\n",
        "\n",
        "WHERE search_condition\n",
        "ORDER BY column_or_expression\n",
        "LIMIT row_count OFFSET offset;\n",
        "\n",
        "ORDER BY и LIMIT выполняют те же роли, что и в SELECT запросе."
      ],
      "metadata": {
        "id": "FLgtplyJeJ74"
      }
    },
    {
      "cell_type": "markdown",
      "source": [
        "\n",
        "**источник:**\n",
        "\n",
        "[про разные типы БД текст](https://www.oracle.com/cis/database/what-is-database/)"
      ],
      "metadata": {
        "id": "dDYPxYA4Zg7r"
      }
    }
  ]
}
