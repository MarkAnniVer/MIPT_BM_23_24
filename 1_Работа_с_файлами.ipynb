{
  "nbformat": 4,
  "nbformat_minor": 0,
  "metadata": {
    "colab": {
      "provenance": []
    },
    "kernelspec": {
      "name": "python3",
      "display_name": "Python 3"
    },
    "language_info": {
      "name": "python"
    }
  },
  "cells": [
    {
      "cell_type": "markdown",
      "source": [
        "#Работа с файлами"
      ],
      "metadata": {
        "id": "M1ytT8t6lz6D"
      }
    },
    {
      "cell_type": "markdown",
      "source": [
        "(демо-версия ноутбука)"
      ],
      "metadata": {
        "id": "FuYHih-4g6JC"
      }
    },
    {
      "cell_type": "code",
      "execution_count": null,
      "metadata": {
        "id": "sHHwoOgB4Q85"
      },
      "outputs": [],
      "source": [
        "file = open(\"file.txt\", \"w\")"
      ]
    },
    {
      "cell_type": "code",
      "source": [
        "file.closed"
      ],
      "metadata": {
        "colab": {
          "base_uri": "https://localhost:8080/"
        },
        "id": "-OQN9-IK4hlT",
        "outputId": "b2f59ea0-7d12-4e65-8d7f-9e2199811ddd"
      },
      "execution_count": null,
      "outputs": [
        {
          "output_type": "execute_result",
          "data": {
            "text/plain": [
              "False"
            ]
          },
          "metadata": {},
          "execution_count": 16
        }
      ]
    },
    {
      "cell_type": "code",
      "source": [
        "file.mode"
      ],
      "metadata": {
        "colab": {
          "base_uri": "https://localhost:8080/",
          "height": 35
        },
        "id": "hkszRL5G4peP",
        "outputId": "f88b072d-610a-4f74-d0b8-94f77f6cab8e"
      },
      "execution_count": null,
      "outputs": [
        {
          "output_type": "execute_result",
          "data": {
            "text/plain": [
              "'w'"
            ],
            "application/vnd.google.colaboratory.intrinsic+json": {
              "type": "string"
            }
          },
          "metadata": {},
          "execution_count": 17
        }
      ]
    },
    {
      "cell_type": "code",
      "source": [
        "file.name"
      ],
      "metadata": {
        "colab": {
          "base_uri": "https://localhost:8080/",
          "height": 35
        },
        "id": "o2ixogO74rwN",
        "outputId": "cab2beed-5174-4ff7-ce45-4c0585210327"
      },
      "execution_count": null,
      "outputs": [
        {
          "output_type": "execute_result",
          "data": {
            "text/plain": [
              "'file.txt'"
            ],
            "application/vnd.google.colaboratory.intrinsic+json": {
              "type": "string"
            }
          },
          "metadata": {},
          "execution_count": 18
        }
      ]
    },
    {
      "cell_type": "code",
      "source": [
        "file.write(\"meow\")"
      ],
      "metadata": {
        "colab": {
          "base_uri": "https://localhost:8080/"
        },
        "id": "fvnC80DV4s5W",
        "outputId": "f98cfd92-3bc5-4500-ddd0-7b633759ca0c"
      },
      "execution_count": null,
      "outputs": [
        {
          "output_type": "execute_result",
          "data": {
            "text/plain": [
              "4"
            ]
          },
          "metadata": {},
          "execution_count": 19
        }
      ]
    },
    {
      "cell_type": "code",
      "source": [
        "file.close()"
      ],
      "metadata": {
        "id": "PgLgkp9d4ym8"
      },
      "execution_count": null,
      "outputs": []
    },
    {
      "cell_type": "code",
      "source": [
        "file = open(\"file.txt\", \"r\")"
      ],
      "metadata": {
        "id": "cWG7QQjg6aoL"
      },
      "execution_count": null,
      "outputs": []
    },
    {
      "cell_type": "code",
      "source": [
        "file.read(2)"
      ],
      "metadata": {
        "colab": {
          "base_uri": "https://localhost:8080/",
          "height": 35
        },
        "id": "xCHq2NpD7MNP",
        "outputId": "3c0b6c63-a09d-4bde-9aa6-c1130d2b58e2"
      },
      "execution_count": null,
      "outputs": [
        {
          "output_type": "execute_result",
          "data": {
            "text/plain": [
              "'me'"
            ],
            "application/vnd.google.colaboratory.intrinsic+json": {
              "type": "string"
            }
          },
          "metadata": {},
          "execution_count": 22
        }
      ]
    },
    {
      "cell_type": "code",
      "source": [
        "file.close()"
      ],
      "metadata": {
        "id": "C_MCekDS7Ne0"
      },
      "execution_count": null,
      "outputs": []
    },
    {
      "cell_type": "markdown",
      "source": [
        "А вдруг программа завершится раньше и в файл не запишется все, что надо?"
      ],
      "metadata": {
        "id": "g9i0FaPuqpq6"
      }
    },
    {
      "cell_type": "code",
      "source": [
        "with open(\"file.txt\", \"r\") as input, open(\"file3.txt\", \"w\") as output:\n",
        "  output.write(input.read())"
      ],
      "metadata": {
        "id": "sAyJL0jr7PCy"
      },
      "execution_count": null,
      "outputs": []
    },
    {
      "cell_type": "markdown",
      "source": [
        "# работа с директориями"
      ],
      "metadata": {
        "id": "hpeRSJUg8sCP"
      }
    },
    {
      "cell_type": "code",
      "source": [
        "import os"
      ],
      "metadata": {
        "id": "wq1qxa_A9CBA"
      },
      "execution_count": null,
      "outputs": []
    },
    {
      "cell_type": "code",
      "source": [
        "os.listdir()"
      ],
      "metadata": {
        "colab": {
          "base_uri": "https://localhost:8080/"
        },
        "id": "H-QqR_sE7nVY",
        "outputId": "4b4e97b5-1fc4-41e9-9d15-a863dcb89e18"
      },
      "execution_count": null,
      "outputs": [
        {
          "output_type": "execute_result",
          "data": {
            "text/plain": [
              "['.config', 'file3.txt', 'file.txt', 'sample_data']"
            ]
          },
          "metadata": {},
          "execution_count": 16
        }
      ]
    },
    {
      "cell_type": "code",
      "source": [
        "os.path.abspath('file3.txt')"
      ],
      "metadata": {
        "colab": {
          "base_uri": "https://localhost:8080/",
          "height": 35
        },
        "id": "_U13dIs_9DRE",
        "outputId": "91673c17-61ac-4400-cb9f-20b82dff1b1f"
      },
      "execution_count": null,
      "outputs": [
        {
          "output_type": "execute_result",
          "data": {
            "text/plain": [
              "'/content/file3.txt'"
            ],
            "application/vnd.google.colaboratory.intrinsic+json": {
              "type": "string"
            }
          },
          "metadata": {},
          "execution_count": 18
        }
      ]
    },
    {
      "cell_type": "code",
      "source": [
        "os.getcwd()"
      ],
      "metadata": {
        "colab": {
          "base_uri": "https://localhost:8080/",
          "height": 35
        },
        "id": "bkoQqiBT9M5I",
        "outputId": "3eaac87a-2ed7-4b40-aaf5-705891acb36d"
      },
      "execution_count": null,
      "outputs": [
        {
          "output_type": "execute_result",
          "data": {
            "text/plain": [
              "'/content'"
            ],
            "application/vnd.google.colaboratory.intrinsic+json": {
              "type": "string"
            }
          },
          "metadata": {},
          "execution_count": 26
        }
      ]
    },
    {
      "cell_type": "code",
      "source": [
        "import json\n",
        "\n",
        "student1 = {\n",
        "    \"full_name\" : \"Greg Martin\",\n",
        "    \"scores\" : [100, 85, 94],\n",
        "    \"certificate\" : True,\n",
        "    \"comment\": \"Great job, Greg!\"\n",
        "}\n",
        "\n",
        "student2 = {\n",
        "    \"full_name\" : \"John Price\",\n",
        "    \"scores\" : [0, 10, 0],\n",
        "    \"certificate\" : False,\n",
        "    \"comment\": \"Guns aren't gonna help you here, captain!\"\n",
        "}\n",
        "\n",
        "data = [student1, student2]\n",
        "\n",
        "print(json.dumps(data, indent=4, sort_keys=True)) #Делаем отступы в 4 пробела, сортируем ключи в алфавитном порядке"
      ],
      "metadata": {
        "colab": {
          "base_uri": "https://localhost:8080/"
        },
        "id": "NVgLKpZg_pdP",
        "outputId": "9c2e16df-8d93-45ca-84cd-31d5f9ce7251"
      },
      "execution_count": null,
      "outputs": [
        {
          "output_type": "stream",
          "name": "stdout",
          "text": [
            "[\n",
            "    {\n",
            "        \"certificate\": true,\n",
            "        \"comment\": \"Great job, Greg!\",\n",
            "        \"full_name\": \"Greg Martin\",\n",
            "        \"scores\": [\n",
            "            100,\n",
            "            85,\n",
            "            94\n",
            "        ]\n",
            "    },\n",
            "    {\n",
            "        \"certificate\": false,\n",
            "        \"comment\": \"Guns aren't gonna help you here, captain!\",\n",
            "        \"full_name\": \"John Price\",\n",
            "        \"scores\": [\n",
            "            0,\n",
            "            10,\n",
            "            0\n",
            "        ]\n",
            "    }\n",
            "]\n"
          ]
        }
      ]
    },
    {
      "cell_type": "code",
      "source": [
        "a = (i**2 for i in range(1,5))"
      ],
      "metadata": {
        "id": "Y74DKjsP9YzC"
      },
      "execution_count": null,
      "outputs": []
    },
    {
      "cell_type": "code",
      "source": [
        "next(a)"
      ],
      "metadata": {
        "colab": {
          "base_uri": "https://localhost:8080/"
        },
        "id": "gYX1X148_Vcy",
        "outputId": "1e95c5aa-5122-4e90-cb31-e382a03289dd"
      },
      "execution_count": null,
      "outputs": [
        {
          "output_type": "execute_result",
          "data": {
            "text/plain": [
              "1"
            ]
          },
          "metadata": {},
          "execution_count": 22
        }
      ]
    },
    {
      "cell_type": "code",
      "source": [
        "next(a)"
      ],
      "metadata": {
        "colab": {
          "base_uri": "https://localhost:8080/"
        },
        "id": "_NsN4WyW_XLZ",
        "outputId": "b3b76027-c625-408f-97aa-2e5b140db407"
      },
      "execution_count": null,
      "outputs": [
        {
          "output_type": "execute_result",
          "data": {
            "text/plain": [
              "4"
            ]
          },
          "metadata": {},
          "execution_count": 23
        }
      ]
    },
    {
      "cell_type": "code",
      "source": [
        "a.close()"
      ],
      "metadata": {
        "id": "TS6__zwk_Yoj"
      },
      "execution_count": null,
      "outputs": []
    },
    {
      "cell_type": "code",
      "source": [
        "assert 'meow'==False"
      ],
      "metadata": {
        "colab": {
          "base_uri": "https://localhost:8080/",
          "height": 210
        },
        "id": "_qVYfhWn_aiJ",
        "outputId": "a7a32f45-6b69-4d5a-b936-905ee22a676c"
      },
      "execution_count": null,
      "outputs": [
        {
          "output_type": "error",
          "ename": "AssertionError",
          "evalue": "ignored",
          "traceback": [
            "\u001b[0;31m---------------------------------------------------------------------------\u001b[0m",
            "\u001b[0;31mAssertionError\u001b[0m                            Traceback (most recent call last)",
            "\u001b[0;32m<ipython-input-29-9030e0f6c369>\u001b[0m in \u001b[0;36m<cell line: 1>\u001b[0;34m()\u001b[0m\n\u001b[0;32m----> 1\u001b[0;31m \u001b[0;32massert\u001b[0m \u001b[0;34m'meow'\u001b[0m\u001b[0;34m==\u001b[0m\u001b[0;32mFalse\u001b[0m\u001b[0;34m\u001b[0m\u001b[0;34m\u001b[0m\u001b[0m\n\u001b[0m",
            "\u001b[0;31mAssertionError\u001b[0m: "
          ]
        }
      ]
    },
    {
      "cell_type": "code",
      "source": [
        "class Attributes():\n",
        "    a = 2\n",
        "    print(a)\n",
        "\n",
        "obj = Attributes()\n",
        "print(obj.attribute)"
      ],
      "metadata": {
        "colab": {
          "base_uri": "https://localhost:8080/",
          "height": 263
        },
        "id": "lvzGmVdU_q8u",
        "outputId": "94ec0c95-f123-43d6-c4b2-543280996962"
      },
      "execution_count": null,
      "outputs": [
        {
          "output_type": "stream",
          "name": "stdout",
          "text": [
            "2\n"
          ]
        },
        {
          "output_type": "error",
          "ename": "AttributeError",
          "evalue": "ignored",
          "traceback": [
            "\u001b[0;31m---------------------------------------------------------------------------\u001b[0m",
            "\u001b[0;31mAttributeError\u001b[0m                            Traceback (most recent call last)",
            "\u001b[0;32m<ipython-input-33-33376510fd6d>\u001b[0m in \u001b[0;36m<cell line: 6>\u001b[0;34m()\u001b[0m\n\u001b[1;32m      4\u001b[0m \u001b[0;34m\u001b[0m\u001b[0m\n\u001b[1;32m      5\u001b[0m \u001b[0mobj\u001b[0m \u001b[0;34m=\u001b[0m \u001b[0mAttributes\u001b[0m\u001b[0;34m(\u001b[0m\u001b[0;34m)\u001b[0m\u001b[0;34m\u001b[0m\u001b[0;34m\u001b[0m\u001b[0m\n\u001b[0;32m----> 6\u001b[0;31m \u001b[0mprint\u001b[0m\u001b[0;34m(\u001b[0m\u001b[0mobj\u001b[0m\u001b[0;34m.\u001b[0m\u001b[0mattribute\u001b[0m\u001b[0;34m)\u001b[0m\u001b[0;34m\u001b[0m\u001b[0;34m\u001b[0m\u001b[0m\n\u001b[0m",
            "\u001b[0;31mAttributeError\u001b[0m: 'Attributes' object has no attribute 'attribute'"
          ]
        }
      ]
    },
    {
      "cell_type": "markdown",
      "source": [
        "**буфер** -- это область памяти, используемая для временного хранения данных при вводы или выводе"
      ],
      "metadata": {
        "id": "HNZfx1MIAi_h"
      }
    },
    {
      "cell_type": "code",
      "source": [
        "here"
      ],
      "metadata": {
        "colab": {
          "base_uri": "https://localhost:8080/",
          "height": 210
        },
        "id": "YShnDSHXABkh",
        "outputId": "79ece80c-603c-48c9-a00e-58844ef969f2"
      },
      "execution_count": null,
      "outputs": [
        {
          "output_type": "error",
          "ename": "NameError",
          "evalue": "ignored",
          "traceback": [
            "\u001b[0;31m---------------------------------------------------------------------------\u001b[0m",
            "\u001b[0;31mNameError\u001b[0m                                 Traceback (most recent call last)",
            "\u001b[0;32m<ipython-input-28-3b1626288afb>\u001b[0m in \u001b[0;36m<cell line: 1>\u001b[0;34m()\u001b[0m\n\u001b[0;32m----> 1\u001b[0;31m \u001b[0mhere\u001b[0m\u001b[0;34m\u001b[0m\u001b[0;34m\u001b[0m\u001b[0m\n\u001b[0m",
            "\u001b[0;31mNameError\u001b[0m: name 'here' is not defined"
          ]
        }
      ]
    },
    {
      "cell_type": "markdown",
      "source": [
        "#Обработка исключений\n",
        "##методом try-except"
      ],
      "metadata": {
        "id": "ztJGSCBnAXwQ"
      }
    },
    {
      "cell_type": "code",
      "source": [
        "1/0"
      ],
      "metadata": {
        "colab": {
          "base_uri": "https://localhost:8080/",
          "height": 210
        },
        "id": "sQ7vuXGHCXJc",
        "outputId": "812b7a4c-9d04-4b88-8e1e-fe93b100548b"
      },
      "execution_count": null,
      "outputs": [
        {
          "output_type": "error",
          "ename": "ZeroDivisionError",
          "evalue": "ignored",
          "traceback": [
            "\u001b[0;31m---------------------------------------------------------------------------\u001b[0m",
            "\u001b[0;31mZeroDivisionError\u001b[0m                         Traceback (most recent call last)",
            "\u001b[0;32m<ipython-input-29-9e1622b385b6>\u001b[0m in \u001b[0;36m<cell line: 1>\u001b[0;34m()\u001b[0m\n\u001b[0;32m----> 1\u001b[0;31m \u001b[0;36m1\u001b[0m\u001b[0;34m/\u001b[0m\u001b[0;36m0\u001b[0m\u001b[0;34m\u001b[0m\u001b[0;34m\u001b[0m\u001b[0m\n\u001b[0m",
            "\u001b[0;31mZeroDivisionError\u001b[0m: division by zero"
          ]
        }
      ]
    },
    {
      "cell_type": "code",
      "source": [
        "try:\n",
        "  k = 1 / 0\n",
        "except ZeroDivisionError:\n",
        "    k = 0\n",
        "print(k)"
      ],
      "metadata": {
        "colab": {
          "base_uri": "https://localhost:8080/"
        },
        "id": "daV6rRPSB9aT",
        "outputId": "fc1d84c5-63f1-4745-d7e6-0c41d09a824b"
      },
      "execution_count": null,
      "outputs": [
        {
          "output_type": "stream",
          "name": "stdout",
          "text": [
            "0\n"
          ]
        }
      ]
    },
    {
      "cell_type": "code",
      "source": [
        "try:\n",
        "    k = 1 / 0\n",
        "except ArithmeticError:\n",
        "    k = 0\n",
        "\n",
        "print(k)"
      ],
      "metadata": {
        "id": "S-auwyczCEmI"
      },
      "execution_count": null,
      "outputs": []
    },
    {
      "cell_type": "markdown",
      "source": [
        "###finally, else\n"
      ],
      "metadata": {
        "id": "AhSBoDVpD1JF"
      }
    },
    {
      "cell_type": "code",
      "source": [
        "f = open('1.txt', 'w')\n",
        "ints = []\n",
        "try:\n",
        "    for line in f:\n",
        "        ints.append(int(line))\n",
        "except ValueError:\n",
        "    print('Это не число. Выходим.')\n",
        "except Exception:\n",
        "    print('Это что ещё такое?')\n",
        "else:\n",
        "    print('Всё хорошо.')\n",
        "finally:\n",
        "    f.close()\n",
        "    print('Я закрыл файл.')\n",
        "    # Именно в таком порядке: try, группа except, затем else, и только потом finally."
      ],
      "metadata": {
        "colab": {
          "base_uri": "https://localhost:8080/"
        },
        "id": "uOfQICv8DuLW",
        "outputId": "e46541c7-2ef5-43d8-feb9-51a5c6fd9e39"
      },
      "execution_count": null,
      "outputs": [
        {
          "output_type": "stream",
          "name": "stdout",
          "text": [
            "Это не число. Выходим.\n",
            "Я закрыл файл.\n"
          ]
        }
      ]
    },
    {
      "cell_type": "code",
      "source": [
        "class MyException(Exception): #создали свой класс. Ничего переопределять не обязательно\n",
        "    pass\n",
        "\n",
        "raise MyException(\"My hovercraft is full of eels\")  #поднятие исключения"
      ],
      "metadata": {
        "colab": {
          "base_uri": "https://localhost:8080/",
          "height": 263
        },
        "id": "Ub2bDw-iD6dl",
        "outputId": "850525f5-6378-457f-b88d-f278935c1d34"
      },
      "execution_count": null,
      "outputs": [
        {
          "output_type": "error",
          "ename": "MyException",
          "evalue": "ignored",
          "traceback": [
            "\u001b[0;31m---------------------------------------------------------------------------\u001b[0m",
            "\u001b[0;31mMyException\u001b[0m                               Traceback (most recent call last)",
            "\u001b[0;32m<ipython-input-41-6f4d21dc1c2d>\u001b[0m in \u001b[0;36m<cell line: 4>\u001b[0;34m()\u001b[0m\n\u001b[1;32m      2\u001b[0m     \u001b[0;32mpass\u001b[0m\u001b[0;34m\u001b[0m\u001b[0;34m\u001b[0m\u001b[0m\n\u001b[1;32m      3\u001b[0m \u001b[0;34m\u001b[0m\u001b[0m\n\u001b[0;32m----> 4\u001b[0;31m \u001b[0;32mraise\u001b[0m \u001b[0mMyException\u001b[0m\u001b[0;34m(\u001b[0m\u001b[0;34m\"My hovercraft is full of eels\"\u001b[0m\u001b[0;34m)\u001b[0m  \u001b[0;31m#поднятие исключения\u001b[0m\u001b[0;34m\u001b[0m\u001b[0;34m\u001b[0m\u001b[0m\n\u001b[0m",
            "\u001b[0;31mMyException\u001b[0m: My hovercraft is full of eels"
          ]
        }
      ]
    },
    {
      "cell_type": "code",
      "source": [],
      "metadata": {
        "id": "BGaaK1EvECJ6"
      },
      "execution_count": null,
      "outputs": []
    }
  ]
}