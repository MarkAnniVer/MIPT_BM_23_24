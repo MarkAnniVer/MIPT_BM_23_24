{
  "nbformat": 4,
  "nbformat_minor": 0,
  "metadata": {
    "colab": {
      "provenance": []
    },
    "kernelspec": {
      "name": "python3",
      "display_name": "Python 3"
    },
    "language_info": {
      "name": "python"
    }
  },
  "cells": [
    {
      "cell_type": "markdown",
      "source": [
        "#Работа с pickle"
      ],
      "metadata": {
        "id": "gN3MAMMuxEc2"
      }
    },
    {
      "cell_type": "markdown",
      "source": [
        "Попробуем сериализовать класс путем записи его в файл.\n",
        "\n",
        "За это отвечает команда **pickle.dump(obj, file)**"
      ],
      "metadata": {
        "id": "OhLen02pxIsc"
      }
    },
    {
      "cell_type": "code",
      "execution_count": null,
      "metadata": {
        "id": "KO0yQGJDxEFA"
      },
      "outputs": [],
      "source": [
        "import pickle\n",
        "\n",
        "class User:\n",
        "  def __init__(self, age, name):\n",
        "    self.age = age\n",
        "    self.name = name\n",
        "  def get_values(self):\n",
        "    print(f\"{self.age=}\")\n",
        "    print(f\"{self.name=}\")\n",
        "\n",
        "with open(\"data.pickle\", \"wb\") as f:\n",
        "  pickle.dump(User, f)"
      ]
    },
    {
      "cell_type": "markdown",
      "source": [
        "всё записалось в файл!\n",
        "Теперь можно его передать на другой ПК.\n",
        "\n",
        "А теперь попробуем получить обратно этот класс из файла."
      ],
      "metadata": {
        "id": "uhze2JpizUjs"
      }
    },
    {
      "cell_type": "code",
      "source": [
        "with open('data.pickle', 'rb') as f:\n",
        "  user = pickle.load(f)"
      ],
      "metadata": {
        "id": "UhvG8j3Ky6mJ"
      },
      "execution_count": null,
      "outputs": []
    },
    {
      "cell_type": "code",
      "source": [
        "print(user)"
      ],
      "metadata": {
        "colab": {
          "base_uri": "https://localhost:8080/"
        },
        "id": "_N0fOyU4ztD2",
        "outputId": "62049eb2-80b1-41d5-b678-f849ac1addbf"
      },
      "execution_count": null,
      "outputs": [
        {
          "output_type": "stream",
          "name": "stdout",
          "text": [
            "<class '__main__.User'>\n"
          ]
        }
      ]
    },
    {
      "cell_type": "markdown",
      "source": [
        "Действительно получили :)\n",
        "\n",
        "То есть мы можем брать наш старый сериализованный код, включать его в любую нашу новую программу и использовать заново."
      ],
      "metadata": {
        "id": "wz9pbriAz5w3"
      }
    },
    {
      "cell_type": "code",
      "source": [
        "a = user(10, \"test\")\n",
        "a.get_values()"
      ],
      "metadata": {
        "colab": {
          "base_uri": "https://localhost:8080/"
        },
        "id": "DVwBfpMuz4Up",
        "outputId": "c829e52b-d98c-45f1-db68-cda470223a2e"
      },
      "execution_count": null,
      "outputs": [
        {
          "output_type": "stream",
          "name": "stdout",
          "text": [
            "self.age=10\n",
            "self.name='test'\n"
          ]
        }
      ]
    },
    {
      "cell_type": "markdown",
      "source": [
        "а что, если мы хотим использовать сериализацию внутри одной программы, внутри одного ПК и нам не надо создавать файл?\n",
        "\n",
        "ну и не будем создавать тогда.\n",
        "\n",
        "методы **dumps** и **loads** позволяют это!"
      ],
      "metadata": {
        "id": "ii8SGgIc1scO"
      }
    },
    {
      "cell_type": "code",
      "source": [
        "import pickle\n",
        "\n",
        "a = {1:2, 3: [1, 2, 3]}\n",
        "b = pickle.dumps(a)\n",
        "print(b)"
      ],
      "metadata": {
        "colab": {
          "base_uri": "https://localhost:8080/"
        },
        "id": "uRiFQgof2baw",
        "outputId": "8097c096-2e31-4768-eee5-dc64ba390e7d"
      },
      "execution_count": null,
      "outputs": [
        {
          "output_type": "stream",
          "name": "stdout",
          "text": [
            "b'\\x80\\x04\\x95\\x15\\x00\\x00\\x00\\x00\\x00\\x00\\x00}\\x94(K\\x01K\\x02K\\x03]\\x94(K\\x01K\\x02K\\x03eu.'\n"
          ]
        }
      ]
    },
    {
      "cell_type": "markdown",
      "source": [
        "**loads** -- загружает сериализованные данные"
      ],
      "metadata": {
        "id": "zMR29eUB3G8b"
      }
    },
    {
      "cell_type": "code",
      "source": [
        " d = pickle.loads(b)\n",
        " print(d)"
      ],
      "metadata": {
        "colab": {
          "base_uri": "https://localhost:8080/"
        },
        "id": "M0c_LzsY3Md0",
        "outputId": "4b4d6c55-b781-40c8-a2bc-57cc50ceb15d"
      },
      "execution_count": null,
      "outputs": [
        {
          "output_type": "stream",
          "name": "stdout",
          "text": [
            "{1: 2, 3: [1, 2, 3]}\n"
          ]
        }
      ]
    },
    {
      "cell_type": "markdown",
      "source": [
        "\n",
        "**Опасность использования pickle:**\n",
        "\n",
        "мы можем исполнить код злоумышленников. Мы же не знаем, что сериализовано. Так что не рекомендуется использовать pickle в программах, которые получают на вход какие-то данные, которые вводят сторонние пользователи (заполняют формы, анкеты)\n",
        "\n",
        "**пример:**\n"
      ],
      "metadata": {
        "id": "7Yu_M9TJ3a-_"
      }
    },
    {
      "cell_type": "code",
      "source": [
        "class Attack:\n",
        "  def __reduce__(self):\n",
        "    return (exec, (\"import webbrowser; webbrowser.open('https://duckduckgo.com')\",))\n",
        "\n",
        "malicious = pickle.dumps(Attack())\n",
        "pickle.loads(malicious)"
      ],
      "metadata": {
        "id": "shTkFQkw4lQ-"
      },
      "execution_count": null,
      "outputs": []
    },
    {
      "cell_type": "markdown",
      "source": [
        "\n",
        "**что делать, если надо всё-таки сериализовать данные пользователей?**\n",
        "\n",
        "Просто возьмите и используйте json вместо pickle.\n",
        "\n",
        "Работает точно так же. Только не принимает на десериализацию команды консольные, переходы на сайты и всякое такое."
      ],
      "metadata": {
        "id": "OAZyghZk5ph7"
      }
    },
    {
      "cell_type": "code",
      "source": [
        "import json\n",
        "\n",
        "\n",
        "a = json.dumps([1, 2, 3, {'4': 5, '6': 7}], separators=(',', ':'))\n",
        "print(a)"
      ],
      "metadata": {
        "colab": {
          "base_uri": "https://localhost:8080/"
        },
        "id": "CFqbe6TM53Uv",
        "outputId": "ce6ec251-1b5a-49e0-aa97-40de6a362431"
      },
      "execution_count": null,
      "outputs": [
        {
          "output_type": "stream",
          "name": "stdout",
          "text": [
            "[1,2,3,{\"4\":5,\"6\":7}]\n"
          ]
        }
      ]
    },
    {
      "cell_type": "code",
      "source": [],
      "metadata": {
        "id": "19iINSsCcvq9"
      },
      "execution_count": null,
      "outputs": []
    },
    {
      "cell_type": "markdown",
      "source": [
        "//dump pickle, json load -- нельзя, потому что форматы разные!"
      ],
      "metadata": {
        "id": "KApp4jO0cv-K"
      }
    },
    {
      "cell_type": "markdown",
      "source": [
        "**Вывод:**\n",
        "\n",
        "1. dump -- записываем внутрь файла\n",
        "\n",
        "dumps -- внутрь переменной\n",
        "\n",
        "2. json вместо pickle, если думаете, что вам на десериализацию могут попасться опасные данные"
      ],
      "metadata": {
        "id": "3w1DTe0o2fcS"
      }
    },
    {
      "cell_type": "markdown",
      "source": [
        "##Обработка объектов с учётом состояния"
      ],
      "metadata": {
        "id": "J0QWs49D7-hg"
      }
    },
    {
      "cell_type": "markdown",
      "source": [
        "Класс TextReader открывает текстовый файл и возвращает номер строки и содержимое строки при каждом вызове метода readline(). Если TextReader сущность является pickled, все атрибуты кроме элемента объекта файла сохраняются. Когда сущность - unpickled, файл вновь открыт, и читающий возобновляет от последнего местоположения. Методы __setstate__() и __getstate__() являются используемый для реализации этого поведения:"
      ],
      "metadata": {
        "id": "UyVFqFNM9B2P"
      }
    },
    {
      "cell_type": "code",
      "source": [
        "class TextReader:\n",
        "    \"\"\"Печать и нумерация строк в текстовом файле.\"\"\"\n",
        "\n",
        "    def __init__(self, filename):\n",
        "        self.filename = filename\n",
        "        self.file = open(filename)\n",
        "        self.lineno = 0\n",
        "\n",
        "    def readline(self):\n",
        "        self.lineno += 1\n",
        "        line = self.file.readline()\n",
        "        if not line:\n",
        "            return None\n",
        "        if line.endswith('\\n'):\n",
        "            line = line[:-1]\n",
        "        return \"%i: %s\" % (self.lineno, line)\n",
        "\n",
        "    def __getstate__(self):\n",
        "        # Скопировать объект состояние из self.__dict__, который содержит все нашей сущность\n",
        "        # атрибуты. Всегда используйте dict.copy() метод, чтобы не изменять\n",
        "        # оригинальный состояние.\n",
        "        state = self.__dict__.copy()\n",
        "        # Удалите недопустимые (unpicklable) записи.\n",
        "        del state['file']\n",
        "        return state\n",
        "\n",
        "    def __setstate__(self, state):\n",
        "        # Восстановить атрибуты сущности (то есть имя файла и lineno).\n",
        "        self.__dict__.update(state)\n",
        "        # Восстановите состояние ранее открытого файла. Для этого нам нужно снова открыть\n",
        "        # его и читать с него до тех пор, пока не будет восстановлен счетчик строк.\n",
        "        file = open(self.filename)\n",
        "        for _ in range(self.lineno):\n",
        "            file.readline()\n",
        "        # Наконец, сохранить файл.\n",
        "        self.file = file"
      ],
      "metadata": {
        "id": "bM1cMqoK8B9a"
      },
      "execution_count": null,
      "outputs": []
    },
    {
      "cell_type": "code",
      "source": [
        "file = open(\"hello.txt\", \"w+\")\n",
        "file.write(\"Hello! \\n Have a good day! \\n Goodbye!\")\n",
        "file.close()"
      ],
      "metadata": {
        "id": "V1Snufyx9rql"
      },
      "execution_count": null,
      "outputs": []
    },
    {
      "cell_type": "code",
      "source": [
        "reader = TextReader(\"hello.txt\")\n",
        "reader.readline()"
      ],
      "metadata": {
        "colab": {
          "base_uri": "https://localhost:8080/",
          "height": 35
        },
        "id": "Slp1jEMq9DtI",
        "outputId": "6eb97293-8eb9-4317-85bb-cc2a97fa4a7e"
      },
      "execution_count": null,
      "outputs": [
        {
          "output_type": "execute_result",
          "data": {
            "text/plain": [
              "'1: Hello! '"
            ],
            "application/vnd.google.colaboratory.intrinsic+json": {
              "type": "string"
            }
          },
          "metadata": {},
          "execution_count": 38
        }
      ]
    },
    {
      "cell_type": "code",
      "source": [
        "reader.readline()"
      ],
      "metadata": {
        "colab": {
          "base_uri": "https://localhost:8080/",
          "height": 35
        },
        "id": "ZuEu-tId9FsW",
        "outputId": "d1da419f-f016-4f0a-9c58-96014ade53e2"
      },
      "execution_count": null,
      "outputs": [
        {
          "output_type": "execute_result",
          "data": {
            "text/plain": [
              "'2:  Have a good day! '"
            ],
            "application/vnd.google.colaboratory.intrinsic+json": {
              "type": "string"
            }
          },
          "metadata": {},
          "execution_count": 39
        }
      ]
    },
    {
      "cell_type": "code",
      "source": [
        "new_reader = pickle.loads(pickle.dumps(reader))"
      ],
      "metadata": {
        "id": "H1oFb0Dr9vd9"
      },
      "execution_count": null,
      "outputs": []
    },
    {
      "cell_type": "code",
      "source": [
        "new_reader.readline()"
      ],
      "metadata": {
        "id": "8Pc5mPdd9we9"
      },
      "execution_count": null,
      "outputs": []
    },
    {
      "cell_type": "markdown",
      "source": [
        "**вывод**\n",
        "\n",
        "\n",
        "1. JSON — это формат сериализации текста (он выводит текст в формате Юникод, хотя большую часть времени он закодирован в utf-8), а pickle — это двоичный формат сериализации;\n",
        "2. JSON удобочитаемый, а pickle — нет;\n",
        "3. JSON совместим и широко используется за пределами экосистемы Python, в то время как pickle специфичен для Python;\n",
        "4. JSON по умолчанию может представлять только подмножество встроенных типов Python и не может представлять собой пользовательские классы; pickle может представлять чрезвычайно большое количество типов Python (многие из них автоматически, с умным использованием средств самоанализа Python; сложные случаи могут быть решены путём реализации API объектов) ;\n",
        "5. В отличие от pickle, десериализация ненадежного JSON сама по себе не создаёт уязвимости при выполнении произвольного кода."
      ],
      "metadata": {
        "id": "QXZ6IcqRiQKp"
      }
    },
    {
      "cell_type": "markdown",
      "source": [
        "**Полезные ссылки:**\n",
        "\n",
        "1. [17 минут объяснение всего пикл на английском (тут про объекты с состоянием есть)](https://www.youtube.com/watch?v=6Q56r_fVqgw&ab_channel=Indently)"
      ],
      "metadata": {
        "id": "_IcRqtBdkSgY"
      }
    },
    {
      "cell_type": "code",
      "source": [],
      "metadata": {
        "id": "GmSwH8tHklUh"
      },
      "execution_count": null,
      "outputs": []
    }
  ]
}