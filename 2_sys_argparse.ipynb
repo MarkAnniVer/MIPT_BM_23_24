{
  "nbformat": 4,
  "nbformat_minor": 0,
  "metadata": {
    "colab": {
      "provenance": []
    },
    "kernelspec": {
      "name": "python3",
      "display_name": "Python 3"
    },
    "language_info": {
      "name": "python"
    }
  },
  "cells": [
    {
      "cell_type": "markdown",
      "source": [
        "#Лаба 4"
      ],
      "metadata": {
        "id": "_Pzi9KqD5meI"
      }
    },
    {
      "cell_type": "code",
      "execution_count": null,
      "metadata": {
        "id": "eJf86rKm5j5z"
      },
      "outputs": [],
      "source": [
        "if __name__ == \"__main__\":\n",
        "   print (\"Привет, мир!\")"
      ]
    },
    {
      "cell_type": "markdown",
      "source": [
        "*Задание 1*\n",
        "Сохраните программу и запустите через командную строку"
      ],
      "metadata": {
        "id": "dObrUJD45mfm"
      }
    },
    {
      "cell_type": "markdown",
      "source": [
        "##Модуль sys\n",
        "\n",
        "sys обеспечивает доступ к некоторым переменным и функциям, взаимодействующим с интерпретатором python"
      ],
      "metadata": {
        "id": "Z_WDnTYB5uJd"
      }
    },
    {
      "cell_type": "markdown",
      "source": [
        "теперь познакомимся с некоторыми возможностями sys.\n",
        "\n",
        "*задание 2* запустите эту программу через командную строку. Сначала без параметров, а потом с разным количеством параемтров. Что вы видите?"
      ],
      "metadata": {
        "id": "E6xTg8Le6FNe"
      }
    },
    {
      "cell_type": "code",
      "source": [
        "import sys\n",
        "\n",
        "if __name__ == \"__main__\":\n",
        "    for param in sys.argv:\n",
        "        print (param)"
      ],
      "metadata": {
        "id": "JeIQjXEr51Z9"
      },
      "execution_count": null,
      "outputs": []
    },
    {
      "cell_type": "markdown",
      "source": [
        "*задание 3* теперь напишите программу, которая здоровается с человеком, обращаясь к нему по имени, если имя было передано при вызове функции. Если имя не было передано, то пишет просто \"привет, мир!\""
      ],
      "metadata": {
        "id": "F8tFLGXi6aVV"
      }
    },
    {
      "cell_type": "code",
      "source": [
        "import sys\n",
        "\n",
        "if __name__ == \"__main__\":\n",
        "    if len (sys.argv) > 1:\n",
        "        print (\"Привет, {}!\".format (sys.argv[1] ) )\n",
        "    else:\n",
        "        print (\"Привет, мир!\")"
      ],
      "metadata": {
        "id": "2Bp8-cb_6pd-"
      },
      "execution_count": null,
      "outputs": []
    },
    {
      "cell_type": "markdown",
      "source": [
        "теперь усложним программу. Теперь нас устраивают только два варианта развития событий:\n",
        "1. Не передаем ни одного параметра\n",
        "2. Передаем ровно два параметра: имя и фамилия.\n",
        "Иначе ошибка.\n"
      ],
      "metadata": {
        "id": "EjMi6lMG7D4q"
      }
    },
    {
      "cell_type": "code",
      "source": [
        "import sys\n",
        "\n",
        "if __name__ == \"__main__\":\n",
        "    if len (sys.argv) == 1:\n",
        "        print (\"Привет, мир!\")\n",
        "    else:\n",
        "        if len (sys.argv) < 3:\n",
        "            print (\"Ошибка. Слишком мало параметров.\")\n",
        "            sys.exit (1)\n",
        "\n",
        "        if len (sys.argv) > 3:\n",
        "            print (\"Ошибка. Слишком много параметров.\")\n",
        "            sys.exit (1)\n",
        "\n",
        "        param_name = sys.argv[1]\n",
        "        param_value = sys.argv[2]\n",
        "\n",
        "        if (param_name == \"--name\" or\n",
        "                param_name == \"-n\"):\n",
        "            print (\"Привет, {}!\".format (param_value) )\n",
        "        else:\n",
        "            print (\"Ошибка. Неизвестный параметр '{}'\".format (param_name) )\n",
        "            sys.exit (1)"
      ],
      "metadata": {
        "id": "Vi8bqs3g7TjQ"
      },
      "execution_count": null,
      "outputs": []
    },
    {
      "cell_type": "markdown",
      "source": [
        "##Библиотека argparse\n",
        "\n",
        "1. Создаем экземпляр класса ArgumentParser.\n",
        "2. Добавляем в него информацию об ожидаемых параметрах с помощью метода add_argument (по одному вызову на каждый параметр).\n",
        "3. Разбираем командную строку помощью метода parse_args, передавая ему полученные параметры командной строки (кроме нулевого элемента списка sys.argv).\n",
        "4. Начинаем использовать полученные параметры."
      ],
      "metadata": {
        "id": "jBjP8XYj7a3f"
      }
    },
    {
      "cell_type": "code",
      "source": [
        "import sys\n",
        "import argparse\n",
        "\n",
        "def createParser ():\n",
        "    parser = argparse.ArgumentParser()\n",
        "    parser.add_argument ('name', nargs='?')\n",
        "    #без добавления nargs='?' именованный параметр наподобие \"-name\" был бы обязательным\n",
        "\n",
        "    return parser\n",
        "\n",
        "\n",
        "if __name__ == '__main__':\n",
        "    parser = createParser()\n",
        "    namespace = parser.parse_args()\n",
        "\n",
        "    print (namespace)\n",
        "\n",
        "    if namespace.name:\n",
        "        print (\"Привет, {}!\".format (namespace.name) )\n",
        "    else:\n",
        "        print (\"Привет, мир!\")"
      ],
      "metadata": {
        "id": "7dsQ0ZLj7jRj"
      },
      "execution_count": null,
      "outputs": []
    },
    {
      "cell_type": "markdown",
      "source": [
        "Теперь у нас есть метод parse_args для разбора командной строки. Все параметры из него записываются в Namespace (hпостранство имен). Получить всё содержимое NameSpace jмжно вот так:"
      ],
      "metadata": {
        "id": "i2i5YFLFAcb-"
      }
    },
    {
      "cell_type": "code",
      "source": [
        "parser.parse_args (sys.argv[1:])"
      ],
      "metadata": {
        "id": "FDdJa7ixBL0f"
      },
      "execution_count": null,
      "outputs": []
    },
    {
      "cell_type": "markdown",
      "source": [
        "теперь создадим один дефолтный параметр"
      ],
      "metadata": {
        "id": "oaBz1MYkBTGn"
      }
    },
    {
      "cell_type": "code",
      "source": [
        "import sys\n",
        "import argparse\n",
        "\n",
        "\n",
        "def createParser ():\n",
        "    parser = argparse.ArgumentParser()\n",
        "    parser.add_argument ('name', nargs='?', default='мир')\n",
        "\n",
        "    return parser\n",
        "\n",
        "\n",
        "if __name__ == '__main__':\n",
        "    parser = createParser()\n",
        "    namespace = parser.parse_args (sys.argv[1:])\n",
        "\n",
        "    # print (namespace)\n",
        "\n",
        "    print (\"Привет, {}!\".format (namespace.name) )"
      ],
      "metadata": {
        "id": "TTvsZIxsBWeh"
      },
      "execution_count": null,
      "outputs": []
    },
    {
      "cell_type": "markdown",
      "source": [
        "**Именованные параметры**"
      ],
      "metadata": {
        "id": "kpzjVVWEBb_5"
      }
    },
    {
      "cell_type": "code",
      "source": [
        "import sys\n",
        "import argparse\n",
        "\n",
        "def createParser ():\n",
        "    parser = argparse.ArgumentParser()\n",
        "    parser.add_argument ('-n', '--name')\n",
        "\n",
        "    return parser\n",
        "\n",
        "\n",
        "if __name__ == '__main__':\n",
        "    parser = createParser()\n",
        "    namespace = parser.parse_args(sys.argv[1:])\n",
        "\n",
        "    print (\"Привет, {}!\".format (namespace.name) )"
      ],
      "metadata": {
        "id": "VC7jJ02lByVD"
      },
      "execution_count": null,
      "outputs": []
    },
    {
      "cell_type": "markdown",
      "source": [
        "если убрать default параметр, то приветствоваться будет None."
      ],
      "metadata": {
        "id": "kQXitEapBzeP"
      }
    },
    {
      "cell_type": "markdown",
      "source": [
        "**Упражнение 1:**\n",
        "\n",
        "Напишите консольную программу, которой на вход подается единственное число N (без имени или с именем -n), а программа печатает значение Nго числа Фибоначчи"
      ],
      "metadata": {
        "id": "Ex-U8JG28_3P"
      }
    },
    {
      "cell_type": "markdown",
      "source": [
        "##Декораторы"
      ],
      "metadata": {
        "id": "BYdCjWaA87p_"
      }
    },
    {
      "cell_type": "markdown",
      "source": [
        "Декораторы -- это обёртка функции в функцию.\n",
        "\n",
        "**1) Декораторы без передачи параметров в них**"
      ],
      "metadata": {
        "id": "Uugn3bF_9If3"
      }
    },
    {
      "cell_type": "code",
      "source": [
        "def decorator(func_to_decorate):\n",
        "    def the_wrapper():\n",
        "        print(\"Работаю до вызова функции\")\n",
        "        func_to_decorate()\n",
        "        print(\"Срабатываю после\")\n",
        "    return the_wrapper\n",
        "\n",
        "def func():\n",
        "    print(\"простая функция\")\n",
        "\n",
        "func()\n",
        "\n",
        "\n",
        "func_decorated = decorator(func)\n",
        "func_decorated()"
      ],
      "metadata": {
        "colab": {
          "base_uri": "https://localhost:8080/"
        },
        "id": "MqvfEBJn8-Fj",
        "outputId": "76df8382-1b11-47e8-bb9b-31a2150a7776"
      },
      "execution_count": null,
      "outputs": [
        {
          "output_type": "stream",
          "name": "stdout",
          "text": [
            "простая функция\n",
            "Работаю до вызова функции\n",
            "простая функция\n",
            "Срабатываю после\n"
          ]
        }
      ]
    },
    {
      "cell_type": "markdown",
      "source": [
        "можно перезаписывать функции"
      ],
      "metadata": {
        "id": "6zLlSpE89-gW"
      }
    },
    {
      "cell_type": "code",
      "source": [
        "func = decorator(func)\n",
        "func()"
      ],
      "metadata": {
        "id": "S5ep50MQ-BsP"
      },
      "execution_count": null,
      "outputs": []
    },
    {
      "cell_type": "markdown",
      "source": [
        "другой синтаксис, но работает точно так же:"
      ],
      "metadata": {
        "id": "X8cemVpJ-ImK"
      }
    },
    {
      "cell_type": "code",
      "source": [
        "def decorator(func_to_decorate):\n",
        "    def the_wrapper():\n",
        "        print(\"Работаю до вызова функции\")\n",
        "        func_to_decorate()\n",
        "        print(\"Срабатываю после\")\n",
        "    return the_wrapper\n",
        "\n",
        "@decorator\n",
        "def func_based():\n",
        "  print('Hey bro')\n",
        "\n",
        "func_based()"
      ],
      "metadata": {
        "colab": {
          "base_uri": "https://localhost:8080/"
        },
        "id": "vGxkR8LQ-MFo",
        "outputId": "101753aa-79db-48c4-f8da-2ee1ff92d016"
      },
      "execution_count": null,
      "outputs": [
        {
          "output_type": "stream",
          "name": "stdout",
          "text": [
            "Работаю до вызова функции\n",
            "Hey bro\n",
            "Срабатываю после\n"
          ]
        }
      ]
    },
    {
      "cell_type": "markdown",
      "source": [
        "Итог: декораторы -- просто синтаксическая обертка конструкций вида:"
      ],
      "metadata": {
        "id": "ES0YB2Zh-a73"
      }
    },
    {
      "cell_type": "code",
      "source": [
        "func = decorator(func)"
      ],
      "metadata": {
        "id": "4RtJggN9-gLS"
      },
      "execution_count": null,
      "outputs": []
    },
    {
      "cell_type": "markdown",
      "source": [
        "можно использовать несколько декораторов:\n",
        "\n",
        "**(порядок имеет значение)**"
      ],
      "metadata": {
        "id": "bqlPncqI-n9c"
      }
    },
    {
      "cell_type": "code",
      "source": [
        "@bread\n",
        "@ingredients\n",
        "def sandwich(food=\"--ветчина--\"):\n",
        "    print(food)\n",
        "\n",
        "sandwich()"
      ],
      "metadata": {
        "id": "nmiLt3Oc-nIE"
      },
      "execution_count": null,
      "outputs": []
    },
    {
      "cell_type": "markdown",
      "source": [
        "**Упражнение 2:**\n",
        "\n",
        "Напишите функцию, которая получает на вход список чисел и выдает ответ сколько в данном списке четных чисел. Напишите декоратор, который меняет поведение функции следующим образом: если четных чисел нет, то пишет \"Нет(\" а если их больше 10, то пишет \"Очень много\""
      ],
      "metadata": {
        "id": "dBqVsES6-06W"
      }
    },
    {
      "cell_type": "markdown",
      "source": [
        "**2) Декораторы с передачей параметров**"
      ],
      "metadata": {
        "id": "c0Tenjjw9THS"
      }
    },
    {
      "cell_type": "markdown",
      "source": [
        "2.1 передача аргументов во внутреннюю функцию через декоратор"
      ],
      "metadata": {
        "id": "7Azna0Tf_E2a"
      }
    },
    {
      "cell_type": "code",
      "source": [
        "def a_decorator_passing_arguments(function_to_decorate):\n",
        "    def a_wrapper_accepting_arguments(arg1, arg2):\n",
        "        print(\"Смотри, что я получил:\", arg1, arg2)\n",
        "        function_to_decorate(arg1, arg2)\n",
        "    return a_wrapper_accepting_arguments\n",
        "\n",
        "# Теперь, когда мы вызываем функцию, которую возвращает декоратор, мы вызываем её \"обёртку\",\n",
        "# передаём ей аргументы и уже в свою очередь она передаёт их декорируемой функции\n",
        "@a_decorator_passing_arguments\n",
        "def print_full_name(first_name, last_name):\n",
        "    print(\"Меня зовут\", first_name, last_name)\n",
        "\n",
        "print_full_name(\"Vasya\", \"Pupkin\")\n"
      ],
      "metadata": {
        "colab": {
          "base_uri": "https://localhost:8080/"
        },
        "id": "b9mIbuG_9Wpf",
        "outputId": "9036f213-2355-4028-99fb-8a27206bd4ab"
      },
      "execution_count": null,
      "outputs": [
        {
          "output_type": "stream",
          "name": "stdout",
          "text": [
            "Смотри, что я получил: Vasya Pupkin\n",
            "Меня зовут Vasya Pupkin\n"
          ]
        }
      ]
    },
    {
      "cell_type": "markdown",
      "source": [
        "2.2 передача аргументов в сам декоратор"
      ],
      "metadata": {
        "id": "di10sAx3_KHX"
      }
    },
    {
      "cell_type": "code",
      "source": [
        "def decorator_maker():\n",
        "    print(\"Я создаю декораторы! Я буду вызван только раз: когда ты попросишь меня создать декоратор.\")\n",
        "    def my_decorator(func):\n",
        "        print(\"Я - декоратор! Я буду вызван только раз: в момент декорирования функции.\")\n",
        "        def wrapped():\n",
        "            print (\"Я - обёртка вокруг декорируемой функции.\\n\"\n",
        "                   \"Я буду вызвана каждый раз, когда ты вызываешь декорируемую функцию.\\n\"\n",
        "                   \"Я возвращаю результат работы декорируемой функции.\")\n",
        "            return func()\n",
        "        print(\"Я возвращаю обёрнутую функцию.\")\n",
        "        return wrapped\n",
        "    print(\"Я возвращаю декоратор.\")\n",
        "    return my_decorator\n",
        "\n",
        "# Давайте теперь создадим декоратор. Это всего лишь ещё один вызов функции\n",
        "new_decorator = decorator_maker()\n",
        "# Теперь декорируем функцию\n",
        "def decorated_function():\n",
        "    print(\"Я - декорируемая функция.\")\n",
        "\n",
        "decorated_function = new_decorator(decorated_function)\n",
        "# Теперь наконец вызовем функцию:\n",
        "decorated_function()"
      ],
      "metadata": {
        "colab": {
          "base_uri": "https://localhost:8080/"
        },
        "id": "OuNuplD6_M-d",
        "outputId": "589ab8c6-b297-47bd-cdcb-a86d0687cd8f"
      },
      "execution_count": null,
      "outputs": [
        {
          "output_type": "stream",
          "name": "stdout",
          "text": [
            "Я создаю декораторы! Я буду вызван только раз: когда ты попросишь меня создать декоратор.\n",
            "Я возвращаю декоратор.\n",
            "Я - декоратор! Я буду вызван только раз: в момент декорирования функции.\n",
            "Я возвращаю обёрнутую функцию.\n",
            "Я - обёртка вокруг декорируемой функции.\n",
            "Я буду вызвана каждый раз, когда ты вызываешь декорируемую функцию.\n",
            "Я возвращаю результат работы декорируемой функции.\n",
            "Я - декорируемая функция.\n"
          ]
        }
      ]
    },
    {
      "cell_type": "code",
      "source": [
        "type(decorator_maker())"
      ],
      "metadata": {
        "colab": {
          "base_uri": "https://localhost:8080/"
        },
        "id": "dTYiiUHJKc0m",
        "outputId": "f9816103-1b67-40e8-cca1-de4822b146a7"
      },
      "execution_count": null,
      "outputs": [
        {
          "output_type": "stream",
          "name": "stdout",
          "text": [
            "Я создаю декораторы! Я буду вызван только раз: когда ты попросишь меня создать декоратор.\n",
            "Я возвращаю декоратор.\n"
          ]
        },
        {
          "output_type": "execute_result",
          "data": {
            "text/plain": [
              "function"
            ]
          },
          "metadata": {},
          "execution_count": 13
        }
      ]
    },
    {
      "cell_type": "code",
      "source": [
        "@decorator_maker()\n",
        "def decorated_function():\n",
        "    print(\"Я - декорируемая функция.\")\n",
        "\n",
        "decorated_function()"
      ],
      "metadata": {
        "colab": {
          "base_uri": "https://localhost:8080/"
        },
        "id": "GSd6PS7Q_QQl",
        "outputId": "3d987be3-bdb6-4bcf-8ee9-a6d0dd2926ce"
      },
      "execution_count": null,
      "outputs": [
        {
          "output_type": "stream",
          "name": "stdout",
          "text": [
            "Я создаю декораторы! Я буду вызван только раз: когда ты попросишь меня создать декоратор.\n",
            "Я возвращаю декоратор.\n",
            "Я - декоратор! Я буду вызван только раз: в момент декорирования функции.\n",
            "Я возвращаю обёрнутую функцию.\n",
            "Я - обёртка вокруг декорируемой функции.\n",
            "Я буду вызвана каждый раз, когда ты вызываешь декорируемую функцию.\n",
            "Я возвращаю результат работы декорируемой функции.\n",
            "Я - декорируемая функция.\n"
          ]
        }
      ]
    },
    {
      "cell_type": "markdown",
      "source": [
        "Мы создали функцию, создающую декораторы. Передаем ей любые аргументы:"
      ],
      "metadata": {
        "id": "W2ZLcsbJ_Z8I"
      }
    },
    {
      "cell_type": "code",
      "source": [
        "def decorator_maker_with_arguments(decorator_arg1, decorator_arg2):\n",
        "    print(\"Я создаю декораторы! И я получил следующие аргументы:\",\n",
        "           decorator_arg1, decorator_arg2)\n",
        "    def my_decorator(func):\n",
        "        print(\"Я - декоратор. И ты всё же смог передать мне эти аргументы:\",\n",
        "               decorator_arg1, decorator_arg2)\n",
        "        # Не перепутайте аргументы декораторов с аргументами функций!\n",
        "        def wrapped(function_arg1, function_arg2):\n",
        "            print (\"Я - обёртка вокруг декорируемой функции.\\n\"\n",
        "                   \"И я имею доступ ко всем аргументам\\n\"\n",
        "                   \"\\t- и декоратора: {0} {1}\\n\"\n",
        "                   \"\\t- и функции: {2} {3}\\n\"\n",
        "                   \"Теперь я могу передать нужные аргументы дальше\"\n",
        "                   .format(decorator_arg1, decorator_arg2,\n",
        "                           function_arg1, function_arg2))\n",
        "            return func(function_arg1, function_arg2)\n",
        "        return wrapped\n",
        "    return my_decorator\n",
        "\n",
        "@decorator_maker_with_arguments(\"Леонард\", \"Шелдон\")\n",
        "def decorated_function_with_arguments(function_arg1, function_arg2):\n",
        "    print (\"Я - декорируемая функция и я знаю только о своих аргументах: {0}\"\n",
        "           \" {1}\".format(function_arg1, function_arg2))\n",
        "\n",
        "decorated_function_with_arguments(\"Раджеш\", \"Говард\")\n",
        "def decorated_function_with_arguments(function_arg1, function_arg2):\n",
        "    print (\"Я - декорируемая функция и я знаю только о своих аргументах: {0}\"\n",
        "           \" {1}\".format(function_arg1, function_arg2))"
      ],
      "metadata": {
        "id": "kv9VuyN0_kbq",
        "colab": {
          "base_uri": "https://localhost:8080/"
        },
        "outputId": "4fc8afbf-b1f2-4945-da81-d6051c72f879"
      },
      "execution_count": null,
      "outputs": [
        {
          "output_type": "stream",
          "name": "stdout",
          "text": [
            "Я создаю декораторы! И я получил следующие аргументы: Леонард Шелдон\n",
            "Я - декоратор. И ты всё же смог передать мне эти аргументы: Леонард Шелдон\n",
            "Я - обёртка вокруг декорируемой функции.\n",
            "И я имею доступ ко всем аргументам\n",
            "\t- и декоратора: Леонард Шелдон\n",
            "\t- и функции: Раджеш Говард\n",
            "Теперь я могу передать нужные аргументы дальше\n",
            "Я - декорируемая функция и я знаю только о своих аргументах: Раджеш Говард\n"
          ]
        }
      ]
    },
    {
      "cell_type": "markdown",
      "source": [
        "**Некоторые особенности работы с декораторами**\n",
        "\n",
        "\n",
        "1. Декораторы несколько замедляют вызов функции, не забывайте об этом.\n",
        "2. Вы не можете \"раздекорировать\" функцию. Безусловно, существуют трюки, позволяющие создать декоратор, который можно отсоединить от функции, но это плохая практика. Правильнее будет запомнить, что если функция декорирована — это не отменить.\n",
        "3. Декораторы оборачивают функции, что может затруднить отладку."
      ],
      "metadata": {
        "id": "xx58JauO_mTt"
      }
    },
    {
      "cell_type": "markdown",
      "source": [
        "**Упражнение 3:**\n",
        "\n",
        "Напишите декоратор swap, который делает так, что задекорированная функция принимает все свои неименованные аргументы в порядке, обратном тому, в котором их передали (для аргументов с именем не вполне правильно учитывать порядок, в котором они были переданы).\n",
        "\n",
        "Пример ожидаемого поведения:\n",
        "\n"
      ],
      "metadata": {
        "id": "orEUwtGO_MRZ"
      }
    },
    {
      "cell_type": "code",
      "source": [
        "@swap\n",
        "def div(x, y, show=False):\n",
        "    res = x / y\n",
        "    if show:\n",
        "        print(res)\n",
        "    return res\n",
        "\n",
        "div(2, 4, show=True)"
      ],
      "metadata": {
        "id": "u1R92Prc_0rB"
      },
      "execution_count": null,
      "outputs": []
    },
    {
      "cell_type": "code",
      "source": [
        ">>> 2.0"
      ],
      "metadata": {
        "id": "DSiTznM9_0sP"
      },
      "execution_count": null,
      "outputs": []
    },
    {
      "cell_type": "markdown",
      "source": [
        "**Упражнение 4:**\n",
        "\n",
        "Напишите декоратор, который принимает в качестве аргумента путь к файлу. Если данный декоратор добавить к функции, то в указанный файл будет логироваться информация вида:\n",
        "1. Время вызова функции\n",
        "2. Входящие аргументы\n",
        "3. Ответ return (если есть, если нет то логгировать '-')\n",
        "4. Время завершения работы функции\n",
        "5. Время работы функции"
      ],
      "metadata": {
        "id": "sGa1GaLS_4u3"
      }
    },
    {
      "cell_type": "code",
      "source": [],
      "metadata": {
        "id": "OdXR00GZ__i7"
      },
      "execution_count": null,
      "outputs": []
    }
  ]
}