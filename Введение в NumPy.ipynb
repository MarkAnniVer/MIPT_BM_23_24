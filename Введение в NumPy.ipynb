{
  "nbformat": 4,
  "nbformat_minor": 0,
  "metadata": {
    "colab": {
      "provenance": []
    },
    "kernelspec": {
      "name": "python3",
      "display_name": "Python 3"
    },
    "language_info": {
      "name": "python"
    }
  },
  "cells": [
    {
      "cell_type": "code",
      "execution_count": null,
      "metadata": {
        "id": "Ranxol7xc_vw"
      },
      "outputs": [],
      "source": [
        "import numpy as np"
      ]
    },
    {
      "cell_type": "markdown",
      "source": [
        "##Создание матриц"
      ],
      "metadata": {
        "id": "8TkMbGK_dDl4"
      }
    },
    {
      "cell_type": "markdown",
      "source": [
        "###np.array()"
      ],
      "metadata": {
        "id": "gda6k1UtfhjR"
      }
    },
    {
      "cell_type": "code",
      "source": [
        "arr = np.array(list, dtype = None)"
      ],
      "metadata": {
        "id": "hLQHWSxzdGGB"
      },
      "execution_count": null,
      "outputs": []
    },
    {
      "cell_type": "markdown",
      "source": [
        "**первый аргумент:** итерируемый объект, элементами которого являются другие итерируемые объекты одинаковой длины и содержащие данные одинакового типа.\n",
        "\n",
        "**второй аргумент** (опциональный): определяет тип данных матрицы. Его можно не задавать, тогда тип данных будет определен из *типа элементов первого аргумента*. При задании этого параметра будет произведена попытка приведения типов."
      ],
      "metadata": {
        "id": "l72kWqe9dTCd"
      }
    },
    {
      "cell_type": "code",
      "source": [
        "a = np.array([1, 2, 3])   # Создаем одномерный массив\n",
        "print(a)"
      ],
      "metadata": {
        "colab": {
          "base_uri": "https://localhost:8080/"
        },
        "id": "xKWRv_su0ubK",
        "outputId": "0df319bf-31ec-43c6-8693-2c61e613dd05"
      },
      "execution_count": null,
      "outputs": [
        {
          "output_type": "stream",
          "name": "stdout",
          "text": [
            "[1 2 3]\n"
          ]
        }
      ]
    },
    {
      "cell_type": "code",
      "source": [
        "a = np.array([1, 2, 3])   # Создаем одномерный массив\n",
        "print(type(a))            # Prints \"<class 'numpy.ndarray'>\"\n",
        "print(a.shape)            # Prints \"(3,)\" - кортеж с размерностями\n",
        "print(a[0], a[1], a[2])   # Prints \"1 2 3\"\n",
        "a[0] = 5                  # Изменяем значение элемента массива\n",
        "print(a)                  # Prints \"[5, 2, 3]\"\n",
        "\n",
        "b = np.array([[1,2,3],[4,5,6]])    # Создаем двухмерный массив\n",
        "print(b.shape)                     # Prints \"(2, 3)\"\n",
        "print(b[0, 0], b[0, 1], b[1, 0])   # Prints \"1 2 4\"\n",
        "print(np.arange(1, 5)) #Cоздает вектор с эелементами от 1 до 4\n",
        "\n",
        "matrix = np.array([[1, 2, 3], [2, 5, 6], [6, 7, 4]])\n",
        "print (\"Матрица:\\n\", matrix)\n"
      ],
      "metadata": {
        "colab": {
          "base_uri": "https://localhost:8080/"
        },
        "id": "GB25bjlYdS3B",
        "outputId": "de0bf783-1250-4898-d682-936f78472d87"
      },
      "execution_count": null,
      "outputs": [
        {
          "output_type": "stream",
          "name": "stdout",
          "text": [
            "<class 'numpy.ndarray'>\n",
            "(3,)\n",
            "1 2 3\n",
            "[5 2 3]\n",
            "(2, 3)\n",
            "1 2 4\n",
            "[1 2 3 4]\n",
            "Матрица:\n",
            " [[1 2 3]\n",
            " [2 5 6]\n",
            " [6 7 4]]\n"
          ]
        }
      ]
    },
    {
      "cell_type": "markdown",
      "source": [
        "###Cпециальные матрицы"
      ],
      "metadata": {
        "id": "4dF-i4ezfnet"
      }
    },
    {
      "cell_type": "code",
      "source": [
        "b = np.eye(5)\n",
        "print (\"Единичная матрица:\\n\", b)"
      ],
      "metadata": {
        "colab": {
          "base_uri": "https://localhost:8080/"
        },
        "id": "Frli7lkFdsCG",
        "outputId": "07380a06-40c2-4283-ff8b-6fb669fa06da"
      },
      "execution_count": null,
      "outputs": [
        {
          "output_type": "stream",
          "name": "stdout",
          "text": [
            "Единичная матрица:\n",
            " [[1. 0. 0. 0. 0.]\n",
            " [0. 1. 0. 0. 0.]\n",
            " [0. 0. 1. 0. 0.]\n",
            " [0. 0. 0. 1. 0.]\n",
            " [0. 0. 0. 0. 1.]]\n"
          ]
        }
      ]
    },
    {
      "cell_type": "code",
      "source": [
        "c = np.ones((7, 5))\n",
        "print (\"Матрица, состоящая из одних единиц:\\n\", c)"
      ],
      "metadata": {
        "colab": {
          "base_uri": "https://localhost:8080/"
        },
        "id": "2wuSzQyPeKyN",
        "outputId": "bc8cf5f6-8505-45ae-94a3-496c43a1f172"
      },
      "execution_count": null,
      "outputs": [
        {
          "output_type": "stream",
          "name": "stdout",
          "text": [
            "Матрица, состоящая из одних единиц:\n",
            " [[1. 1. 1. 1. 1.]\n",
            " [1. 1. 1. 1. 1.]\n",
            " [1. 1. 1. 1. 1.]\n",
            " [1. 1. 1. 1. 1.]\n",
            " [1. 1. 1. 1. 1.]\n",
            " [1. 1. 1. 1. 1.]\n",
            " [1. 1. 1. 1. 1.]]\n"
          ]
        }
      ]
    },
    {
      "cell_type": "code",
      "source": [
        "d = np.full((2,2), 7)  # Создает матрицу (1, 2) заполненую заданным значением\n",
        "print(d)               # Prints \"[[ 7.  7.]\n",
        "                       #          [ 7.  7.]]\"\n",
        "\n",
        "e = np.random.random((2,2))\n",
        "print(e)"
      ],
      "metadata": {
        "colab": {
          "base_uri": "https://localhost:8080/"
        },
        "id": "1CSjgJYreQQ6",
        "outputId": "1e692216-457c-4c00-9b9e-4634abe6696d"
      },
      "execution_count": null,
      "outputs": [
        {
          "output_type": "stream",
          "name": "stdout",
          "text": [
            "[[7 7]\n",
            " [7 7]]\n",
            "[[0.59556536 0.99919934]\n",
            " [0.77771767 0.53571464]]\n"
          ]
        }
      ]
    },
    {
      "cell_type": "markdown",
      "source": [
        "### np.arange()\n",
        " создает одномерный массив последовательных чисел из промежутка [start, stop) с заданным шагом step, и метода array.reshape(shape).\n",
        "\n"
      ],
      "metadata": {
        "id": "FJIPGKmCfTp9"
      }
    },
    {
      "cell_type": "code",
      "source": [
        "v = np.arange(0, 24, 2)\n",
        "print (\"Вектор-столбец:\\n\", v)"
      ],
      "metadata": {
        "colab": {
          "base_uri": "https://localhost:8080/"
        },
        "id": "RHFpgQObeZE7",
        "outputId": "2080c4ea-ee5f-46ed-9c6e-8d6f27b82d28"
      },
      "execution_count": null,
      "outputs": [
        {
          "output_type": "stream",
          "name": "stdout",
          "text": [
            "Вектор-столбец:\n",
            " [ 0  2  4  6  8 10 12 14 16 18 20 22]\n"
          ]
        }
      ]
    },
    {
      "cell_type": "code",
      "source": [
        "d = v.reshape((3, 4))\n",
        "print (\"Матрица:\\n\", d)"
      ],
      "metadata": {
        "colab": {
          "base_uri": "https://localhost:8080/"
        },
        "id": "aNZ1zX-sfXus",
        "outputId": "303b620e-2ccf-46c9-f811-4472ddd6bf48"
      },
      "execution_count": null,
      "outputs": [
        {
          "output_type": "stream",
          "name": "stdout",
          "text": [
            "Матрица:\n",
            " [[ 0  2  4  6]\n",
            " [ 8 10 12 14]\n",
            " [16 18 20 22]]\n"
          ]
        }
      ]
    },
    {
      "cell_type": "markdown",
      "source": [
        "## Индексирование"
      ],
      "metadata": {
        "id": "Xh1UYH0BfsZj"
      }
    },
    {
      "cell_type": "code",
      "source": [
        "print (\"Матрица:\\n\", d)"
      ],
      "metadata": {
        "colab": {
          "base_uri": "https://localhost:8080/"
        },
        "id": "ZtnmSviCgeqg",
        "outputId": "d7727e66-f528-4d96-ec4d-daa402e2f27e"
      },
      "execution_count": null,
      "outputs": [
        {
          "output_type": "stream",
          "name": "stdout",
          "text": [
            "Матрица:\n",
            " [[ 0  2  4  6]\n",
            " [ 8 10 12 14]\n",
            " [16 18 20 22]]\n"
          ]
        }
      ]
    },
    {
      "cell_type": "markdown",
      "source": [
        "###Получаем элемент матрицы:"
      ],
      "metadata": {
        "id": "7mB2zGdYgiJY"
      }
    },
    {
      "cell_type": "code",
      "source": [
        "print (\"Второй элемент третьей строки матрицы:\", d[2, 1])"
      ],
      "metadata": {
        "colab": {
          "base_uri": "https://localhost:8080/"
        },
        "id": "yp3qzZ-tgfFa",
        "outputId": "408c02fd-0469-40e3-eb3c-064c1c0198c2"
      },
      "execution_count": null,
      "outputs": [
        {
          "output_type": "stream",
          "name": "stdout",
          "text": [
            "Второй элемент третьей строки матрицы: 18\n"
          ]
        }
      ]
    },
    {
      "cell_type": "markdown",
      "source": [
        "###array[i, :] или array[:, j] - получение строки/столбца"
      ],
      "metadata": {
        "id": "MnvwyWdbg0pP"
      }
    },
    {
      "cell_type": "code",
      "source": [
        "print (\"Вторая строка матрицы d:\\n\", d[1, :])\n",
        "print (\"Четвертый столбец матрицы d:\\n\", d[:, 3])"
      ],
      "metadata": {
        "colab": {
          "base_uri": "https://localhost:8080/"
        },
        "id": "Oo49PT6zgp8Z",
        "outputId": "1646f536-922e-47d5-d113-022d074dceb4"
      },
      "execution_count": null,
      "outputs": [
        {
          "output_type": "stream",
          "name": "stdout",
          "text": [
            "Вторая строка матрицы d:\n",
            " [ 8 10 12 14]\n",
            "Четвертый столбец матрицы d:\n",
            " [ 6 14 22]\n"
          ]
        }
      ]
    },
    {
      "cell_type": "markdown",
      "source": [
        "###array[list1, list2]"
      ],
      "metadata": {
        "id": "n7y1XITjhRFz"
      }
    },
    {
      "cell_type": "code",
      "source": [
        "print (\"Элементы матрицы d с координатами (1, 2) и (0, 3):\\n\", d[[1, 0], [2, 3]])\n"
      ],
      "metadata": {
        "colab": {
          "base_uri": "https://localhost:8080/"
        },
        "id": "9BWwFvobg7TS",
        "outputId": "01215182-90b5-451b-cad6-985dc20b24b2"
      },
      "execution_count": null,
      "outputs": [
        {
          "output_type": "stream",
          "name": "stdout",
          "text": [
            "Элементы матрицы d с координатами (1, 2) и (0, 3):\n",
            " [12  6]\n"
          ]
        }
      ]
    },
    {
      "cell_type": "markdown",
      "source": [
        "### Срезы"
      ],
      "metadata": {
        "id": "tMt-AlKIhZ0J"
      }
    },
    {
      "cell_type": "code",
      "source": [
        "a = np.array([[1,2,3,4], [5,6,7,8], [9,10,11,12]])\n",
        "b = a[:2, 1:3]\n",
        "print(b)"
      ],
      "metadata": {
        "colab": {
          "base_uri": "https://localhost:8080/"
        },
        "id": "t5L_vA7-hTtS",
        "outputId": "6d80639b-617f-4db5-bf11-28f9a04e6556"
      },
      "execution_count": null,
      "outputs": [
        {
          "output_type": "stream",
          "name": "stdout",
          "text": [
            "[[2 3]\n",
            " [6 7]]\n"
          ]
        }
      ]
    },
    {
      "cell_type": "markdown",
      "source": [
        "обратите внимание, что массивы таким образом становятся связаны!\n",
        "\n",
        "чтобы создать из массивы другой массив и при изменении одного из них второй не менялся, надо изначально создавать второй через **.copy()**!!"
      ],
      "metadata": {
        "id": "RSE81KKmh_rC"
      }
    },
    {
      "cell_type": "code",
      "source": [
        "print(a[0, 1])   # Prints \"2\"\n",
        "b[0, 0] = 77     # b[0, 0] is the same piece of data as a[0, 1]\n",
        "print(a[0, 1])   # Prints \"77\""
      ],
      "metadata": {
        "colab": {
          "base_uri": "https://localhost:8080/"
        },
        "id": "e9su2DMQho42",
        "outputId": "f064ba99-6e20-4374-b183-e2509529da34"
      },
      "execution_count": null,
      "outputs": [
        {
          "output_type": "stream",
          "name": "stdout",
          "text": [
            "2\n",
            "77\n"
          ]
        }
      ]
    },
    {
      "cell_type": "markdown",
      "source": [
        "###Integer array indexing"
      ],
      "metadata": {
        "id": "270-qkh-isnF"
      }
    },
    {
      "cell_type": "code",
      "source": [
        "a = np.array([[1,2], [3, 4], [5, 6]])\n",
        "print(a)\n",
        "print()"
      ],
      "metadata": {
        "colab": {
          "base_uri": "https://localhost:8080/"
        },
        "id": "ao7Q_CcIhtf5",
        "outputId": "2e6c2446-1f72-45a5-fc75-fb8a9ca777d9"
      },
      "execution_count": null,
      "outputs": [
        {
          "output_type": "stream",
          "name": "stdout",
          "text": [
            "[[1 2]\n",
            " [3 4]\n",
            " [5 6]]\n",
            "\n"
          ]
        }
      ]
    },
    {
      "cell_type": "code",
      "source": [
        "print(a[[0, 1, 2], [0, 1, 0]])  # Prints \"[1 4 5]\""
      ],
      "metadata": {
        "colab": {
          "base_uri": "https://localhost:8080/"
        },
        "id": "9tT976DIiw3n",
        "outputId": "31a0295d-9eba-4b8a-a422-c00934bae8c7"
      },
      "execution_count": null,
      "outputs": [
        {
          "output_type": "stream",
          "name": "stdout",
          "text": [
            "[1 4 5]\n"
          ]
        }
      ]
    },
    {
      "cell_type": "markdown",
      "source": [
        "то же самое, но записанное адекватно:"
      ],
      "metadata": {
        "id": "1OYXXpZYi6mM"
      }
    },
    {
      "cell_type": "code",
      "source": [
        "print(np.array([a[0, 0], a[1, 1], a[2, 0]]))  # Prints \"[1 4 5]\""
      ],
      "metadata": {
        "colab": {
          "base_uri": "https://localhost:8080/"
        },
        "id": "tTQUiW0pizkE",
        "outputId": "e1e1d2ec-3c84-4ac1-c0f1-e03910302320"
      },
      "execution_count": null,
      "outputs": [
        {
          "output_type": "stream",
          "name": "stdout",
          "text": [
            "[1 4 5]\n"
          ]
        }
      ]
    },
    {
      "cell_type": "markdown",
      "source": [
        "пример использования"
      ],
      "metadata": {
        "id": "6robyo8rjen2"
      }
    },
    {
      "cell_type": "code",
      "source": [
        "a = np.array([[1,2,3], [4,5,6], [7,8,9], [10, 11, 12]])\n",
        "print(a)\n",
        "b = np.array([0, 2, 0, 1]) # Создадим массив индексов\n",
        "# Выберем из каждой строки элемент с индексом из b (индекс столбца берется из b)\n",
        "print(a[np.arange(4), b])\n",
        "print()\n",
        "# Добавим к этим элементам 10\n",
        "a[np.arange(4), b] += 10\n",
        "print(a)"
      ],
      "metadata": {
        "colab": {
          "base_uri": "https://localhost:8080/"
        },
        "id": "z6qj_i1Ti5uO",
        "outputId": "4c0e7c5c-72d4-4ada-ac19-53479a88a2e2"
      },
      "execution_count": null,
      "outputs": [
        {
          "output_type": "stream",
          "name": "stdout",
          "text": [
            "[[ 1  2  3]\n",
            " [ 4  5  6]\n",
            " [ 7  8  9]\n",
            " [10 11 12]]\n",
            "[ 1  6  7 11]\n",
            "\n",
            "[[11  2  3]\n",
            " [ 4  5 16]\n",
            " [17  8  9]\n",
            " [10 21 12]]\n"
          ]
        }
      ]
    },
    {
      "cell_type": "code",
      "source": [
        "a = np.array([[1,2], [3, 4], [5, 6]])\n",
        "bool_idx = (a > 2)\n",
        "print(bool_idx)\n",
        "print()\n",
        "print(a[bool_idx])  # Prints \"[3 4 5 6]\"\n",
        "print(a[a > 2])"
      ],
      "metadata": {
        "colab": {
          "base_uri": "https://localhost:8080/"
        },
        "id": "MiUMptTDjvIG",
        "outputId": "f77b37e3-3a06-470e-a03a-e3e925653f71"
      },
      "execution_count": null,
      "outputs": [
        {
          "output_type": "stream",
          "name": "stdout",
          "text": [
            "[[False False]\n",
            " [ True  True]\n",
            " [ True  True]]\n",
            "\n",
            "[3 4 5 6]\n",
            "[3 4 5 6]\n"
          ]
        }
      ]
    },
    {
      "cell_type": "markdown",
      "source": [
        "#Векторы, вектор-строки и вектор-столбцы"
      ],
      "metadata": {
        "id": "w0Rge_6Ij4Gk"
      }
    },
    {
      "cell_type": "code",
      "source": [
        "a = np.array([1, 2, 3])\n",
        "b = np.array([[1], [2], [3]])\n",
        "\n",
        "print (\"Вектор:\\n\", a)\n",
        "print (\"Его размерность:\\n\", a.shape)\n",
        "print (\"Двумерный массив:\\n\", b)\n",
        "print (\"Его размерность:\\n\", b.shape)"
      ],
      "metadata": {
        "colab": {
          "base_uri": "https://localhost:8080/"
        },
        "id": "J-8SXg-Hjyuq",
        "outputId": "5f59efd6-e056-4a1c-927a-c2aee0da0904"
      },
      "execution_count": null,
      "outputs": [
        {
          "output_type": "stream",
          "name": "stdout",
          "text": [
            "Вектор:\n",
            " [1 2 3]\n",
            "Его размерность:\n",
            " (3,)\n",
            "Двумерный массив:\n",
            " [[1]\n",
            " [2]\n",
            " [3]]\n",
            "Его размерность:\n",
            " (3, 1)\n"
          ]
        }
      ]
    },
    {
      "cell_type": "markdown",
      "source": [
        "пример различия:"
      ],
      "metadata": {
        "id": "5vsO-IeslVoB"
      }
    },
    {
      "cell_type": "code",
      "source": [
        "a = a.T\n",
        "b = b.T\n",
        "print (\"Вектор не изменился:\\n\", a)\n",
        "print (\"Его размерность также не изменилась:\\n\", a.shape)\n",
        "print (\"Транспонированный двумерный массив:\\n\", b)\n",
        "print (\"Его размерность изменилась:\\n\", b.shape)"
      ],
      "metadata": {
        "colab": {
          "base_uri": "https://localhost:8080/"
        },
        "id": "mNQmK3QMlBZl",
        "outputId": "519bde63-d32d-4f3b-dfe9-357df932e6ee"
      },
      "execution_count": null,
      "outputs": [
        {
          "output_type": "stream",
          "name": "stdout",
          "text": [
            "Вектор не изменился:\n",
            " [1 2 3]\n",
            "Его размерность также не изменилась:\n",
            " (3,)\n",
            "Транспонированный двумерный массив:\n",
            " [[1 2 3]]\n",
            "Его размерность изменилась:\n",
            " (1, 3)\n"
          ]
        }
      ]
    },
    {
      "cell_type": "markdown",
      "source": [
        "##Математические операции"
      ],
      "metadata": {
        "id": "-r2bXj2HlesO"
      }
    },
    {
      "cell_type": "code",
      "source": [
        "x = np.array([[1,2],[3,4]], dtype=np.float64)\n",
        "y = np.array([[5,6],[7,8]], dtype=np.float64)\n",
        "arr = np.array([1, 2])"
      ],
      "metadata": {
        "id": "0-NPdea5lXIh"
      },
      "execution_count": null,
      "outputs": []
    },
    {
      "cell_type": "code",
      "source": [
        "print(x + y)\n",
        "print()\n",
        "print(np.add(x, y))\n",
        "print('С числом')\n",
        "print(x + 1)\n",
        "print('C массивом другой размерности')\n",
        "print(x + arr)"
      ],
      "metadata": {
        "colab": {
          "base_uri": "https://localhost:8080/"
        },
        "id": "Ec5Vz0wUlmyb",
        "outputId": "97d5d40c-87d8-43bb-ca76-5916f31647a9"
      },
      "execution_count": null,
      "outputs": [
        {
          "output_type": "stream",
          "name": "stdout",
          "text": [
            "[[ 6.  8.]\n",
            " [10. 12.]]\n",
            "\n",
            "[[ 6.  8.]\n",
            " [10. 12.]]\n",
            "С числом\n",
            "[[2. 3.]\n",
            " [4. 5.]]\n",
            "C массивом другой размерности\n",
            "[[2. 4.]\n",
            " [4. 6.]]\n"
          ]
        }
      ]
    },
    {
      "cell_type": "code",
      "source": [
        "print(x - y)\n",
        "print(np.subtract(x, y))"
      ],
      "metadata": {
        "colab": {
          "base_uri": "https://localhost:8080/"
        },
        "id": "VDCMd5UJlnri",
        "outputId": "7f755aef-10fc-4053-cfaf-37794aec5748"
      },
      "execution_count": null,
      "outputs": [
        {
          "output_type": "stream",
          "name": "stdout",
          "text": [
            "[[-4. -4.]\n",
            " [-4. -4.]]\n",
            "[[-4. -4.]\n",
            " [-4. -4.]]\n"
          ]
        }
      ]
    },
    {
      "cell_type": "code",
      "source": [
        "print(x / y)\n",
        "print(np.divide(x, y))"
      ],
      "metadata": {
        "colab": {
          "base_uri": "https://localhost:8080/"
        },
        "id": "aWGuMFbhlwLO",
        "outputId": "04fdf0a4-2f44-4e6c-a768-4dc5fb6100eb"
      },
      "execution_count": null,
      "outputs": [
        {
          "output_type": "stream",
          "name": "stdout",
          "text": [
            "[[0.2        0.33333333]\n",
            " [0.42857143 0.5       ]]\n",
            "[[0.2        0.33333333]\n",
            " [0.42857143 0.5       ]]\n"
          ]
        }
      ]
    },
    {
      "cell_type": "code",
      "source": [
        "print(np.sqrt(x))"
      ],
      "metadata": {
        "colab": {
          "base_uri": "https://localhost:8080/"
        },
        "id": "1WKOVO_GlzzB",
        "outputId": "e9d75e72-9e5f-46a2-9562-e7274d9d524d"
      },
      "execution_count": null,
      "outputs": [
        {
          "output_type": "stream",
          "name": "stdout",
          "text": [
            "[[1.         1.41421356]\n",
            " [1.73205081 2.        ]]\n"
          ]
        }
      ]
    },
    {
      "cell_type": "markdown",
      "source": [
        "## Умножение матриц и столбцов"
      ],
      "metadata": {
        "id": "wIXdJ9Whl0_D"
      }
    },
    {
      "cell_type": "markdown",
      "source": [
        "np.dot(a, b) или a.dot(b)"
      ],
      "metadata": {
        "id": "Ltr_tShXmE0E"
      }
    },
    {
      "cell_type": "code",
      "source": [
        "a = np.array([[1, 0], [0, 1]])\n",
        "b = np.array([[4, 1], [2, 2]])\n",
        "r1 = np.dot(a, b)\n",
        "r2 = a.dot(b)\n",
        "print (\"Матрица A:\\n\", a)\n",
        "print (\"Матрица B:\\n\", b)\n",
        "print (\"Результат умножения функцией:\\n\", r1)\n",
        "print (\"Результат умножения методом:\\n\", r2)"
      ],
      "metadata": {
        "colab": {
          "base_uri": "https://localhost:8080/"
        },
        "id": "uCRSIGM8l9dR",
        "outputId": "f0071088-321b-48df-e2b1-afe4c2ddb08a"
      },
      "execution_count": null,
      "outputs": [
        {
          "output_type": "stream",
          "name": "stdout",
          "text": [
            "Матрица A:\n",
            " [[1 0]\n",
            " [0 1]]\n",
            "Матрица B:\n",
            " [[4 1]\n",
            " [2 2]]\n",
            "Результат умножения функцией:\n",
            " [[4 1]\n",
            " [2 2]]\n",
            "Результат умножения методом:\n",
            " [[4 1]\n",
            " [2 2]]\n"
          ]
        }
      ]
    },
    {
      "cell_type": "code",
      "source": [
        "c = np.array([1, 2])\n",
        "r3 = b.dot(c)\n",
        "print (\"Матрица:\\n\", b)\n",
        "print (\"Вектор:\\n\", c)\n",
        "print (\"Результат умножения:\\n\", r3)"
      ],
      "metadata": {
        "colab": {
          "base_uri": "https://localhost:8080/"
        },
        "id": "oaEQWuhImKhl",
        "outputId": "cb4a174f-5a31-45b1-f3bf-d07a54c71476"
      },
      "execution_count": null,
      "outputs": [
        {
          "output_type": "stream",
          "name": "stdout",
          "text": [
            "Матрица:\n",
            " [[4 1]\n",
            " [2 2]]\n",
            "Вектор:\n",
            " [1 2]\n",
            "Результат умножения:\n",
            " [6 6]\n"
          ]
        }
      ]
    },
    {
      "cell_type": "markdown",
      "source": [
        "**Обратите внимание**: операция * производит над матрицами покоординатное умножение, а не матричное!"
      ],
      "metadata": {
        "id": "FganwB7bmRwc"
      }
    },
    {
      "cell_type": "code",
      "source": [
        "r = a * b\n",
        "print (\"Матрица A:\\n\", a)\n",
        "print (\"Матрица B:\\n\", b)\n",
        "print (\"Результат покоординатного умножения через операцию умножения:\\n\", r)"
      ],
      "metadata": {
        "colab": {
          "base_uri": "https://localhost:8080/"
        },
        "id": "6y1fMNuomMhj",
        "outputId": "654eee70-5d52-4a38-9fc6-739ee5cd0f98"
      },
      "execution_count": null,
      "outputs": [
        {
          "output_type": "stream",
          "name": "stdout",
          "text": [
            "Матрица A:\n",
            " [[1 0]\n",
            " [0 1]]\n",
            "Матрица B:\n",
            " [[4 1]\n",
            " [2 2]]\n",
            "Результат покоординатного умножения через операцию умножения:\n",
            " [[4 0]\n",
            " [0 2]]\n"
          ]
        }
      ]
    },
    {
      "cell_type": "markdown",
      "source": [
        "## Объединение массивов\n",
        "\n",
        "есть горизонтальное, есть верикальное"
      ],
      "metadata": {
        "id": "QDSU0zafmZMf"
      }
    },
    {
      "cell_type": "code",
      "source": [
        "a = np.floor(10*np.random.random((2,2)))\n",
        "b = np.floor(10*np.random.random((2,2)))\n",
        "\n",
        "print(a)\n",
        "print(b)\n",
        "print()\n",
        "\n",
        "\n",
        "print(np.vstack((a,b)))\n",
        "print()\n",
        "\n",
        "print(np.hstack((a,b)))"
      ],
      "metadata": {
        "colab": {
          "base_uri": "https://localhost:8080/"
        },
        "id": "izY5jYOpmTi7",
        "outputId": "6dffb2b6-e715-4c07-fba0-1c81ed454c57"
      },
      "execution_count": null,
      "outputs": [
        {
          "output_type": "stream",
          "name": "stdout",
          "text": [
            "[[1. 2.]\n",
            " [8. 8.]]\n",
            "[[7. 6.]\n",
            " [8. 9.]]\n",
            "\n",
            "[[1. 2.]\n",
            " [8. 8.]\n",
            " [7. 6.]\n",
            " [8. 9.]]\n",
            "\n",
            "[[1. 2. 7. 6.]\n",
            " [8. 8. 8. 9.]]\n"
          ]
        }
      ]
    },
    {
      "cell_type": "code",
      "source": [
        "a = np.array(range(10), float)\n",
        "print(a)\n",
        "print()\n",
        "\n",
        "# Превратим в матрицу\n",
        "a = a.reshape((5, 2))\n",
        "print(a)\n",
        "print()\n",
        "\n",
        "# Вернем обратно\n",
        "print(a.flatten())\n",
        "\n",
        "# Другой вариант\n",
        "print(a.reshape((-1)))\n",
        "# Превратим в марицу (9, 1)\n",
        "print(a.reshape((-1, 1)))\n",
        "# Превратим в марицу (1, 9)\n",
        "print(a.reshape((1, -1)))"
      ],
      "metadata": {
        "colab": {
          "base_uri": "https://localhost:8080/"
        },
        "id": "YKczRYLLmik4",
        "outputId": "a614bdb8-4f02-463f-efa8-0c97140ca858"
      },
      "execution_count": null,
      "outputs": [
        {
          "output_type": "stream",
          "name": "stdout",
          "text": [
            "[0. 1. 2. 3. 4. 5. 6. 7. 8. 9.]\n",
            "\n",
            "[[0. 1.]\n",
            " [2. 3.]\n",
            " [4. 5.]\n",
            " [6. 7.]\n",
            " [8. 9.]]\n",
            "\n",
            "[0. 1. 2. 3. 4. 5. 6. 7. 8. 9.]\n",
            "[0. 1. 2. 3. 4. 5. 6. 7. 8. 9.]\n",
            "[[0.]\n",
            " [1.]\n",
            " [2.]\n",
            " [3.]\n",
            " [4.]\n",
            " [5.]\n",
            " [6.]\n",
            " [7.]\n",
            " [8.]\n",
            " [9.]]\n",
            "[[0. 1. 2. 3. 4. 5. 6. 7. 8. 9.]]\n"
          ]
        }
      ]
    },
    {
      "cell_type": "markdown",
      "source": [
        "##Транспонирование матриц"
      ],
      "metadata": {
        "id": "vqtwIJkqnGj3"
      }
    },
    {
      "cell_type": "code",
      "source": [
        "a = np.array([[1, 2], [3, 4]])\n",
        "b = np.transpose(a)\n",
        "c = a.T\n",
        "print (\"Матрица:\\n\", a)\n",
        "print (\"Транспонирование функцией:\\n\", b)\n",
        "print (\"Транспонирование методом:\\n\",  c)"
      ],
      "metadata": {
        "colab": {
          "base_uri": "https://localhost:8080/"
        },
        "id": "F663VuernD8d",
        "outputId": "032c3e71-09f8-4ab3-f8fc-a921f54e1773"
      },
      "execution_count": null,
      "outputs": [
        {
          "output_type": "stream",
          "name": "stdout",
          "text": [
            "Матрица:\n",
            " [[1 2]\n",
            " [3 4]]\n",
            "Транспонирование функцией:\n",
            " [[1 3]\n",
            " [2 4]]\n",
            "Транспонирование методом:\n",
            " [[1 3]\n",
            " [2 4]]\n"
          ]
        }
      ]
    },
    {
      "cell_type": "markdown",
      "source": [
        "##Определитель матрицы\n",
        "\n",
        "здесь и далее используется модуль [linalg](https://docs.scipy.org/doc/numpy-1.10.0/reference/routines.linalg.html#linear-algebra-numpy-linalg)"
      ],
      "metadata": {
        "id": "Ej3NRYtNnUmk"
      }
    },
    {
      "cell_type": "code",
      "source": [
        "a = np.array([[1, 2, 1], [1, 1, 4], [2, 3, 6]], dtype=np.float32)\n",
        "det = np.linalg.det(a)\n",
        "print (\"Матрица:\\n\", a)\n",
        "print (\"Определитель:\\n\", det)"
      ],
      "metadata": {
        "colab": {
          "base_uri": "https://localhost:8080/"
        },
        "id": "BmUxC9M9nPC3",
        "outputId": "ca38c58f-4c0a-4c30-8824-0cee7662a0b7"
      },
      "execution_count": null,
      "outputs": [
        {
          "output_type": "stream",
          "name": "stdout",
          "text": [
            "Матрица:\n",
            " [[1. 2. 1.]\n",
            " [1. 1. 4.]\n",
            " [2. 3. 6.]]\n",
            "Определитель:\n",
            " -1.0\n"
          ]
        }
      ]
    },
    {
      "cell_type": "markdown",
      "source": [
        "## Ранг матрицы\n",
        "\n",
        "max число линейно независимых строк (столбцов)"
      ],
      "metadata": {
        "id": "xjTKOgsnnn-I"
      }
    },
    {
      "cell_type": "code",
      "source": [
        "a = np.array([[1, 2, 3], [1, 1, 1], [2, 2, 2]])\n",
        "r = np.linalg.matrix_rank(a)\n",
        "print (\"Матрица:\\n\", a)\n",
        "print (\"Ранг матрицы:\", r)"
      ],
      "metadata": {
        "colab": {
          "base_uri": "https://localhost:8080/"
        },
        "id": "GIJFzMzZnkE9",
        "outputId": "90a99813-1455-4214-81fb-67df08f563f7"
      },
      "execution_count": null,
      "outputs": [
        {
          "output_type": "stream",
          "name": "stdout",
          "text": [
            "Матрица:\n",
            " [[1 2 3]\n",
            " [1 1 1]\n",
            " [2 2 2]]\n",
            "Ранг матрицы: 2\n"
          ]
        }
      ]
    },
    {
      "cell_type": "markdown",
      "source": [
        "проверим линейную независимость системы векторов"
      ],
      "metadata": {
        "id": "C59WKIOJofNh"
      }
    },
    {
      "cell_type": "code",
      "source": [
        "a = np.array([1, 2, 3])\n",
        "b = np.array([1, 1, 1])\n",
        "c = np.array([2, 3, 5])\n",
        "m = np.array([a, b, c])\n",
        "print (np.linalg.matrix_rank(m) == m.shape[0])"
      ],
      "metadata": {
        "colab": {
          "base_uri": "https://localhost:8080/"
        },
        "id": "AQwV4cuGn0BI",
        "outputId": "f349c9e3-dee6-4d4d-bd91-4ad0eedc601c"
      },
      "execution_count": null,
      "outputs": [
        {
          "output_type": "stream",
          "name": "stdout",
          "text": [
            "True\n"
          ]
        }
      ]
    },
    {
      "cell_type": "markdown",
      "source": [
        "## СЛАУ"
      ],
      "metadata": {
        "id": "ezpOpI9LojsC"
      }
    },
    {
      "cell_type": "code",
      "source": [
        "a = np.array([[3, 1], [1, 2]])\n",
        "b = np.array([9, 8])\n",
        "x = np.linalg.solve(a, b)\n",
        "print (\"Матрица A:\\n\", a)\n",
        "print (\"Вектор b:\\n\", b)\n",
        "print (\"Решение системы:\\n\", x)"
      ],
      "metadata": {
        "colab": {
          "base_uri": "https://localhost:8080/"
        },
        "id": "e7nVigipoh4U",
        "outputId": "0cc9c952-3996-4405-aff0-17ab500ab487"
      },
      "execution_count": null,
      "outputs": [
        {
          "output_type": "stream",
          "name": "stdout",
          "text": [
            "Матрица A:\n",
            " [[3 1]\n",
            " [1 2]]\n",
            "Вектор b:\n",
            " [9 8]\n",
            "Решение системы:\n",
            " [2. 3.]\n"
          ]
        }
      ]
    },
    {
      "cell_type": "markdown",
      "source": [
        "Убедимся, что вектор x действительно является решением системы:\n",
        "\n"
      ],
      "metadata": {
        "id": "SNsU5drMorW4"
      }
    },
    {
      "cell_type": "code",
      "source": [
        "print (a.dot(x))"
      ],
      "metadata": {
        "id": "dGuvHHIOopiC"
      },
      "execution_count": null,
      "outputs": []
    },
    {
      "cell_type": "markdown",
      "source": [
        "Нахождение примерно решения, если точного нет. Для этого мнимизируем ||Ax-b||^2"
      ],
      "metadata": {
        "id": "E9CTAEPNoykH"
      }
    },
    {
      "cell_type": "code",
      "source": [
        "a = np.array([[0, 1], [1, 1], [2, 1], [3, 1]])\n",
        "b = np.array([-1, 0.2, 0.9, 2.1])\n",
        "x, res, r, s = np.linalg.lstsq(a, b, rcond=None)\n",
        "print (\"Матрица A:\\n\", a)\n",
        "print (\"Вектор b:\\n\", b)\n",
        "print (\"Псевдорешение системы:\\n\", x)"
      ],
      "metadata": {
        "colab": {
          "base_uri": "https://localhost:8080/"
        },
        "id": "WlpxpUCwo6EH",
        "outputId": "819f9216-62d6-4e63-ce8c-4483fce081b6"
      },
      "execution_count": null,
      "outputs": [
        {
          "output_type": "stream",
          "name": "stdout",
          "text": [
            "Матрица A:\n",
            " [[0 1]\n",
            " [1 1]\n",
            " [2 1]\n",
            " [3 1]]\n",
            "Вектор b:\n",
            " [-1.   0.2  0.9  2.1]\n",
            "Псевдорешение системы:\n",
            " [ 1.   -0.95]\n"
          ]
        }
      ]
    },
    {
      "cell_type": "markdown",
      "source": [
        "##Обращение матриц"
      ],
      "metadata": {
        "id": "ik_ifJUVo8w8"
      }
    },
    {
      "cell_type": "code",
      "source": [
        "a = np.array([[1, 2, 1], [1, 1, 4], [2, 3, 6]], dtype=np.float32)\n",
        "b = np.linalg.inv(a)\n",
        "print (\"Матрица A:\\n\", a)\n",
        "print (\"Обратная матрица к A:\\n\", b)\n",
        "print (\"Произведение A на обратную должна быть единичной:\\n\", a.dot(b))"
      ],
      "metadata": {
        "colab": {
          "base_uri": "https://localhost:8080/"
        },
        "id": "btVGXkxGo66V",
        "outputId": "8c035523-2e4f-4709-d2b1-5771255299f4"
      },
      "execution_count": null,
      "outputs": [
        {
          "output_type": "stream",
          "name": "stdout",
          "text": [
            "Матрица A:\n",
            " [[1. 2. 1.]\n",
            " [1. 1. 4.]\n",
            " [2. 3. 6.]]\n",
            "Обратная матрица к A:\n",
            " [[ 6.  9. -7.]\n",
            " [-2. -4.  3.]\n",
            " [-1. -1.  1.]]\n",
            "Произведение A на обратную должна быть единичной:\n",
            " [[1. 0. 0.]\n",
            " [0. 1. 0.]\n",
            " [0. 0. 1.]]\n"
          ]
        }
      ]
    },
    {
      "cell_type": "markdown",
      "source": [
        "##Собственные числа и собственные вектора матрицы"
      ],
      "metadata": {
        "id": "ztlACbQ2pLPw"
      }
    },
    {
      "cell_type": "code",
      "source": [
        "a = np.array([[-1, -6], [2, 6]])\n",
        "w, v = np.linalg.eig(a)\n",
        "print (\"Матрица A:\\n\", a)\n",
        "print (\"Собственные числа:\\n\", w)\n",
        "print (\"Собственные векторы:\\n\", v)"
      ],
      "metadata": {
        "colab": {
          "base_uri": "https://localhost:8080/"
        },
        "id": "lyWnpLxPpJGf",
        "outputId": "ca9e58cb-ca48-4fc1-8f94-3de7382dd513"
      },
      "execution_count": null,
      "outputs": [
        {
          "output_type": "stream",
          "name": "stdout",
          "text": [
            "Матрица A:\n",
            " [[-1 -6]\n",
            " [ 2  6]]\n",
            "Собственные числа:\n",
            " [2. 3.]\n",
            "Собственные векторы:\n",
            " [[-0.89442719  0.83205029]\n",
            " [ 0.4472136  -0.5547002 ]]\n"
          ]
        }
      ]
    },
    {
      "cell_type": "markdown",
      "source": [
        "##Расстояние между векторами\n",
        "\n",
        "l1 - норма"
      ],
      "metadata": {
        "id": "Y5DeLoACpawN"
      }
    },
    {
      "cell_type": "code",
      "source": [
        "from numpy.linalg import norm\n",
        "\n",
        "a = np.array([1, 2, -3])\n",
        "print('Вектор a:', a)\n",
        "print('L1 норма вектора a:\\n', norm(a, ord=1))\n"
      ],
      "metadata": {
        "colab": {
          "base_uri": "https://localhost:8080/"
        },
        "id": "7fUFH990pZn2",
        "outputId": "d447ec93-0999-418a-bf77-c100b3ff1219"
      },
      "execution_count": null,
      "outputs": [
        {
          "output_type": "stream",
          "name": "stdout",
          "text": [
            "Вектор a: [ 1  2 -3]\n",
            "L1 норма вектора a:\n",
            " 6.0\n"
          ]
        }
      ]
    },
    {
      "cell_type": "markdown",
      "source": [
        "l2-норма"
      ],
      "metadata": {
        "id": "dEEGAZ5fpzg0"
      }
    },
    {
      "cell_type": "code",
      "source": [
        "print ('L2 норма вектора a:\\n', norm(a, ord=2))\n"
      ],
      "metadata": {
        "colab": {
          "base_uri": "https://localhost:8080/"
        },
        "id": "F90JeExepu4N",
        "outputId": "2e8f6123-aa99-48d3-a825-67e71bdd539b"
      },
      "execution_count": null,
      "outputs": [
        {
          "output_type": "stream",
          "name": "stdout",
          "text": [
            "L2 норма вектора a:\n",
            " 3.7416573867739413\n"
          ]
        }
      ]
    },
    {
      "cell_type": "markdown",
      "source": [
        "сами расстояния в этих нормах:"
      ],
      "metadata": {
        "id": "TrR8pJDAp9YG"
      }
    },
    {
      "cell_type": "code",
      "source": [
        "a = np.array([1, 2, -3])\n",
        "b = np.array([-4, 3, 8])\n",
        "print ('Вектор a:', a)\n",
        "print ('Вектор b:', b)\n",
        "print ('L1 расстояние между векторами a и b:\\n', norm(a - b, ord=1))\n",
        "print ('L2 расстояние между векторами a и b:\\n', norm(a - b, ord=2))"
      ],
      "metadata": {
        "colab": {
          "base_uri": "https://localhost:8080/"
        },
        "id": "_g_gfF9Ap2j6",
        "outputId": "c35d73c7-63be-4887-8dc9-33c95c99d9a3"
      },
      "execution_count": null,
      "outputs": [
        {
          "output_type": "stream",
          "name": "stdout",
          "text": [
            "Вектор a: [ 1  2 -3]\n",
            "Вектор b: [-4  3  8]\n",
            "L1 расстояние между векторами a и b:\n",
            " 17.0\n",
            "L2 расстояние между векторами a и b:\n",
            " 12.12435565298214\n"
          ]
        }
      ]
    },
    {
      "cell_type": "markdown",
      "source": [
        "##Скалярное произведение и угол"
      ],
      "metadata": {
        "id": "6toGM3b9qAxS"
      }
    },
    {
      "cell_type": "code",
      "source": [
        "a = np.array([0, 5, -1])\n",
        "b = np.array([-4, 9, 3])\n",
        "print ('Вектор a:', a)\n",
        "print ('Вектор b:', b)\n",
        "cos_angle = np.dot(a, b) / norm(a) / norm(b)\n",
        "print ('Косинус угла между a и b:', cos_angle)\n",
        "print ('Сам угол:', np.arccos(cos_angle))"
      ],
      "metadata": {
        "id": "TK-u29j5p_bi"
      },
      "execution_count": null,
      "outputs": []
    },
    {
      "cell_type": "markdown",
      "source": [
        "## Комплексные числа"
      ],
      "metadata": {
        "id": "Em4S5tA3qPpa"
      }
    },
    {
      "cell_type": "code",
      "source": [
        "a = 3 + 2j\n",
        "b = 1j\n",
        "print (\"Комплексное число a:\\n\", a)\n",
        "print (\"Комплексное число b:\\n\", b)"
      ],
      "metadata": {
        "colab": {
          "base_uri": "https://localhost:8080/"
        },
        "id": "_XPVg59tqSO9",
        "outputId": "3acd4e3e-3007-4829-d131-a838b90fa18e"
      },
      "execution_count": null,
      "outputs": [
        {
          "output_type": "stream",
          "name": "stdout",
          "text": [
            "Комплексное число a:\n",
            " (3+2j)\n",
            "Комплексное число b:\n",
            " 1j\n"
          ]
        }
      ]
    },
    {
      "cell_type": "code",
      "source": [
        "c = a * a\n",
        "d = a / (4 - 5j)\n",
        "print (\"Комплексное число c:\\n\", c)\n",
        "print (\"Комплексное число d:\\n\", d)"
      ],
      "metadata": {
        "colab": {
          "base_uri": "https://localhost:8080/"
        },
        "id": "st5SobhkqU4S",
        "outputId": "8c44100c-d35d-4b39-92f7-5aaead68ac8d"
      },
      "execution_count": null,
      "outputs": [
        {
          "output_type": "stream",
          "name": "stdout",
          "text": [
            "Комплексное число c:\n",
            " (5+12j)\n",
            "Комплексное число d:\n",
            " (0.0487804878048781+0.5609756097560976j)\n"
          ]
        }
      ]
    }
  ]
}
